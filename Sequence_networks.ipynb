{
  "nbformat": 4,
  "nbformat_minor": 0,
  "metadata": {
    "colab": {
      "provenance": []
    },
    "kernelspec": {
      "name": "python3",
      "display_name": "Python 3"
    },
    "language_info": {
      "name": "python"
    }
  },
  "cells": [
    {
      "cell_type": "code",
      "execution_count": 39,
      "metadata": {
        "id": "o6L0qLK7K91s"
      },
      "outputs": [],
      "source": [
        "import pandas as pd\n",
        "import numpy as np\n",
        "import tensorflow as tf\n",
        "from tensorflow import keras\n",
        "from sklearn.model_selection import train_test_split\n",
        "from sklearn.metrics import classification_report\n",
        "import scikitplot as skplt\n",
        "import matplotlib.pyplot as plt\n"
      ]
    },
    {
      "cell_type": "code",
      "source": [
        "text = []\n",
        "label = []\n",
        "for i in open('/content/sample_data/imdb_labelled.txt'):\n",
        "  i = i.rstrip('\\n').split('\\t')\n",
        "  text.append(i[0].strip(' '))\n",
        "  label.append(i[1])\n",
        "\n",
        "text = np.array(text)\n",
        "label = np.array(label)\n",
        "\n",
        "print (text.shape)\n",
        "print (label.shape)"
      ],
      "metadata": {
        "id": "NzR1tT6WLE8r",
        "colab": {
          "base_uri": "https://localhost:8080/"
        },
        "outputId": "3544592e-3d45-450a-cc66-8d04de917d6d"
      },
      "execution_count": 40,
      "outputs": [
        {
          "output_type": "stream",
          "name": "stdout",
          "text": [
            "(1000,)\n",
            "(1000,)\n"
          ]
        }
      ]
    },
    {
      "cell_type": "code",
      "source": [
        "df_text = pd.DataFrame({'text': text , 'label':label })"
      ],
      "metadata": {
        "id": "1p7tIT36J-DS"
      },
      "execution_count": 41,
      "outputs": []
    },
    {
      "cell_type": "code",
      "source": [
        "df_text.head(5)"
      ],
      "metadata": {
        "colab": {
          "base_uri": "https://localhost:8080/",
          "height": 206
        },
        "id": "EXOjTOVqJ_kV",
        "outputId": "4b334e6c-4582-4b59-ee9d-b17f32538500"
      },
      "execution_count": 42,
      "outputs": [
        {
          "output_type": "execute_result",
          "data": {
            "text/plain": [
              "                                                text label\n",
              "0  A very, very, very slow-moving, aimless movie ...     0\n",
              "1  Not sure who was more lost - the flat characte...     0\n",
              "2  Attempting artiness with black & white and cle...     0\n",
              "3         Very little music or anything to speak of.     0\n",
              "4  The best scene in the movie was when Gerardo i...     1"
            ],
            "text/html": [
              "\n",
              "  <div id=\"df-ea3dabbf-449e-44e5-b971-91524b8cf75c\">\n",
              "    <div class=\"colab-df-container\">\n",
              "      <div>\n",
              "<style scoped>\n",
              "    .dataframe tbody tr th:only-of-type {\n",
              "        vertical-align: middle;\n",
              "    }\n",
              "\n",
              "    .dataframe tbody tr th {\n",
              "        vertical-align: top;\n",
              "    }\n",
              "\n",
              "    .dataframe thead th {\n",
              "        text-align: right;\n",
              "    }\n",
              "</style>\n",
              "<table border=\"1\" class=\"dataframe\">\n",
              "  <thead>\n",
              "    <tr style=\"text-align: right;\">\n",
              "      <th></th>\n",
              "      <th>text</th>\n",
              "      <th>label</th>\n",
              "    </tr>\n",
              "  </thead>\n",
              "  <tbody>\n",
              "    <tr>\n",
              "      <th>0</th>\n",
              "      <td>A very, very, very slow-moving, aimless movie ...</td>\n",
              "      <td>0</td>\n",
              "    </tr>\n",
              "    <tr>\n",
              "      <th>1</th>\n",
              "      <td>Not sure who was more lost - the flat characte...</td>\n",
              "      <td>0</td>\n",
              "    </tr>\n",
              "    <tr>\n",
              "      <th>2</th>\n",
              "      <td>Attempting artiness with black &amp; white and cle...</td>\n",
              "      <td>0</td>\n",
              "    </tr>\n",
              "    <tr>\n",
              "      <th>3</th>\n",
              "      <td>Very little music or anything to speak of.</td>\n",
              "      <td>0</td>\n",
              "    </tr>\n",
              "    <tr>\n",
              "      <th>4</th>\n",
              "      <td>The best scene in the movie was when Gerardo i...</td>\n",
              "      <td>1</td>\n",
              "    </tr>\n",
              "  </tbody>\n",
              "</table>\n",
              "</div>\n",
              "      <button class=\"colab-df-convert\" onclick=\"convertToInteractive('df-ea3dabbf-449e-44e5-b971-91524b8cf75c')\"\n",
              "              title=\"Convert this dataframe to an interactive table.\"\n",
              "              style=\"display:none;\">\n",
              "        \n",
              "  <svg xmlns=\"http://www.w3.org/2000/svg\" height=\"24px\"viewBox=\"0 0 24 24\"\n",
              "       width=\"24px\">\n",
              "    <path d=\"M0 0h24v24H0V0z\" fill=\"none\"/>\n",
              "    <path d=\"M18.56 5.44l.94 2.06.94-2.06 2.06-.94-2.06-.94-.94-2.06-.94 2.06-2.06.94zm-11 1L8.5 8.5l.94-2.06 2.06-.94-2.06-.94L8.5 2.5l-.94 2.06-2.06.94zm10 10l.94 2.06.94-2.06 2.06-.94-2.06-.94-.94-2.06-.94 2.06-2.06.94z\"/><path d=\"M17.41 7.96l-1.37-1.37c-.4-.4-.92-.59-1.43-.59-.52 0-1.04.2-1.43.59L10.3 9.45l-7.72 7.72c-.78.78-.78 2.05 0 2.83L4 21.41c.39.39.9.59 1.41.59.51 0 1.02-.2 1.41-.59l7.78-7.78 2.81-2.81c.8-.78.8-2.07 0-2.86zM5.41 20L4 18.59l7.72-7.72 1.47 1.35L5.41 20z\"/>\n",
              "  </svg>\n",
              "      </button>\n",
              "      \n",
              "  <style>\n",
              "    .colab-df-container {\n",
              "      display:flex;\n",
              "      flex-wrap:wrap;\n",
              "      gap: 12px;\n",
              "    }\n",
              "\n",
              "    .colab-df-convert {\n",
              "      background-color: #E8F0FE;\n",
              "      border: none;\n",
              "      border-radius: 50%;\n",
              "      cursor: pointer;\n",
              "      display: none;\n",
              "      fill: #1967D2;\n",
              "      height: 32px;\n",
              "      padding: 0 0 0 0;\n",
              "      width: 32px;\n",
              "    }\n",
              "\n",
              "    .colab-df-convert:hover {\n",
              "      background-color: #E2EBFA;\n",
              "      box-shadow: 0px 1px 2px rgba(60, 64, 67, 0.3), 0px 1px 3px 1px rgba(60, 64, 67, 0.15);\n",
              "      fill: #174EA6;\n",
              "    }\n",
              "\n",
              "    [theme=dark] .colab-df-convert {\n",
              "      background-color: #3B4455;\n",
              "      fill: #D2E3FC;\n",
              "    }\n",
              "\n",
              "    [theme=dark] .colab-df-convert:hover {\n",
              "      background-color: #434B5C;\n",
              "      box-shadow: 0px 1px 3px 1px rgba(0, 0, 0, 0.15);\n",
              "      filter: drop-shadow(0px 1px 2px rgba(0, 0, 0, 0.3));\n",
              "      fill: #FFFFFF;\n",
              "    }\n",
              "  </style>\n",
              "\n",
              "      <script>\n",
              "        const buttonEl =\n",
              "          document.querySelector('#df-ea3dabbf-449e-44e5-b971-91524b8cf75c button.colab-df-convert');\n",
              "        buttonEl.style.display =\n",
              "          google.colab.kernel.accessAllowed ? 'block' : 'none';\n",
              "\n",
              "        async function convertToInteractive(key) {\n",
              "          const element = document.querySelector('#df-ea3dabbf-449e-44e5-b971-91524b8cf75c');\n",
              "          const dataTable =\n",
              "            await google.colab.kernel.invokeFunction('convertToInteractive',\n",
              "                                                     [key], {});\n",
              "          if (!dataTable) return;\n",
              "\n",
              "          const docLinkHtml = 'Like what you see? Visit the ' +\n",
              "            '<a target=\"_blank\" href=https://colab.research.google.com/notebooks/data_table.ipynb>data table notebook</a>'\n",
              "            + ' to learn more about interactive tables.';\n",
              "          element.innerHTML = '';\n",
              "          dataTable['output_type'] = 'display_data';\n",
              "          await google.colab.output.renderOutput(dataTable, element);\n",
              "          const docLink = document.createElement('div');\n",
              "          docLink.innerHTML = docLinkHtml;\n",
              "          element.appendChild(docLink);\n",
              "        }\n",
              "      </script>\n",
              "    </div>\n",
              "  </div>\n",
              "  "
            ]
          },
          "metadata": {},
          "execution_count": 42
        }
      ]
    },
    {
      "cell_type": "code",
      "source": [
        "# Now we will do preprocessing on the text data using the following\n",
        "vectorize_layer = keras.layers.experimental.preprocessing.TextVectorization(\n",
        "    max_tokens = None,\n",
        "    standardize = 'lower_and_strip_punctuation',\n",
        "    split = 'whitespace',\n",
        "    ngrams = None,\n",
        "    output_mode = 'int',\n",
        "    output_sequence_length = None\n",
        ")"
      ],
      "metadata": {
        "id": "DPUyknbgLFBw"
      },
      "execution_count": 43,
      "outputs": []
    },
    {
      "cell_type": "code",
      "source": [
        "vectorize_layer.adapt(text)"
      ],
      "metadata": {
        "id": "Aa8yE_RtLFGZ"
      },
      "execution_count": 44,
      "outputs": []
    },
    {
      "cell_type": "code",
      "source": [
        "print (vectorize_layer.get_vocabulary())"
      ],
      "metadata": {
        "colab": {
          "base_uri": "https://localhost:8080/"
        },
        "id": "1eYAvlgbpR0f",
        "outputId": "57d39ea6-a11b-405a-bca8-e661138b0fc1"
      },
      "execution_count": 45,
      "outputs": [
        {
          "output_type": "stream",
          "name": "stdout",
          "text": [
            "['', '[UNK]', 'the', 'a', 'and', 'of', 'is', 'this', 'i', 'it', 'to', 'in', 'was', 'movie', 'that', 'film', 'for', 'as', 'but', 'with', 'its', 'one', 'you', 'on', 'are', 'not', 'bad', 'very', 'just', 'so', 'all', 'good', 'at', 'an', 'there', 'be', 'about', 'by', 'have', 'like', 'from', 'if', 'time', 'really', 'his', 'acting', 'out', 'or', 'great', 'even', 'who', 'were', 'he', 'has', 'see', 'characters', 'my', 'most', 'how', 'well', 'no', 'more', 'only', 'movies', 'ever', 'story', 'when', 'some', 'plot', 'made', 'films', 'they', 'dont', 'your', 'best', 'because', 'also', 'than', 'script', 'can', 'way', 'seen', 'other', 'would', 'which', 'what', 'watching', 'me', 'make', 'love', 'her', 'didnt', 'character', 'will', 'think', 'real', 'could', 'any', 'much', 'had', 'every', 'do', 'up', 'too', 'scenes', 'look', 'work', 'wonderful', 'funny', 'cast', 'better', 'actors', 'watch', 'them', 'over', 'never', 'little', 'into', '10', 'show', 'everything', 'totally', 'their', 'here', 'excellent', 'both', 'anyone', 'years', 'waste', 'stupid', 'still', 'scene', 'people', 'nothing', 'many', 'know', 'go', 'get', 'awful', 'writing', 'worth', 'two', 'thing', 'say', 'right', 'recommend', 'pretty', 'music', 'man', 'dialogue', 'again', 'after', 'those', 'things', 'terrible', 'such', 'saw', 'performance', 'line', 'ive', 'interesting', 'doesnt', 'cant', 'being', 'been', 'art', 'worst', 'worse', 'thought', 'though', 'should', 'short', 'she', 'screen', 'part', 'im', 'give', 'first', 'enough', 'ending', 'did', 'beautiful', 'through', 'simply', 'quite', 'predictable', 'played', 'piece', 'off', 'now', 'loved', 'liked', 'life', 'however', 'highly', 'find', 'feeling', 'end', 'director', 'between', 'actually', 'actor', 'whole', 'we', 'watched', 'understand', 'truly', 'thats', 'play', 'lot', 'least', 'job', 'going', 'game', 'enjoyed', 'effects', 'drama', 'does', 'directing', 'definitely', 'boring', 'black', 'big', 'am', 'almost', 'absolutely', 'white', 'where', 'used', 'these', 'theres', 'then', 'sucks', 'special', 'probably', 'myself', 'minutes', 'mess', 'makes', 'long', 'kind', 'kids', 'got', 'found', 'cinematography', 'cinema', 'certainly', 'camera', 'believe', 'avoid', 'amazing', 'written', 'wasted', 'wasnt', 'tv', 'top', 'together', 'suspense', 'subtle', 'series', 'our', 'old', 'must', 'lines', 'john', 'horror', 'garbage', 'far', 'fact', 'experience', 'everyone', 'especially', 'each', 'done', 'cool', 'comedy', 'around', 'anything', 'another', 'action', 'wont', 'why', 'whatever', 'want', 'use', 'throughout', 'take', 'sucked', 'style', 'sound', 'seeing', 'second', 'rent', 'recommended', 'rather', 'portrayal', 'poor', 'playing', 'performances', 'perfect', 'own', 'nice', 'money', 'lacks', 'incredible', 'id', 'human', 'horrible', 'holes', 'history', 'him', 'having', 'half', 'gives', 'girl', 'gets', 'flick', 'few', 'family', 'entire', 'editing', 'disappointed', 'crap', 'classic', 'cheap', 'casting', 'brilliant', 'believable', 'annoying', '\\x96', 'yet', 'world', 'works', 'us', 'tom', 'times', 'terrific', 'talk', 'superb', 'strong', 'started', 'solid', 'single', 'since', 'silent', 'shot', 'same', 'said', 'ridiculous', 'put', 'period', 'pathetic', 'particularly', 'overall', 'often', 'night', 'new', 'mostly', 'mention', 'memorable', 'lead', 'lame', 'joy', 'involved', 'hour', 'hitchcock', 'hilarious', 'guess', 'gave', 'fun', 'full', 'fine', 'felt', 'fast', 'fans', 'fails', 'face', 'enjoy', 'direction', 'different', 'cult', 'couldnt', 'completely', 'come', 'clever', 'child', 'care', 'budget', 'bit', 'beyond', 'before', 'away', 'audience', 'amount', '1', 'young', 'year', 'wouldnt', 'word', 'without', 'whether', 'visual', 'utterly', 'usual', 'unfortunately', 'unbelievable', 'trying', 'try', 'true', 'trash', 'torture', 'thriller', 'three', 'theyre', 'themselves', 'theater', 'tell', 'tale', 'storyline', 'stories', 'soundtrack', 'songs', 'song', 'sometimes', 'small', 'slow', 'sets', 'serious', 'seem', 'roles', 'role', 'rest', 'ray', 'rating', 'production', 'pretentious', 'premise', 'point', 'plain', 'place', 'perhaps', 'parts', 'original', 'occasionally', 'minute', 'mind', 'mediocre', 'mean', 'maybe', 'may', 'low', 'lovely', 'lost', 'looked', 'level', 'let', 'less', 'last', 'keep', 'itself', 'intelligence', 'insult', 'indeed', 'imagination', 'ill', 'idea', 'huge', 'hours', 'hope', 'hard', 'glad', 'generally', 'fx', 'follow', 'eyes', 'extremely', 'expect', 'entertaining', 'energy', 'else', 'either', 'easy', 'easily', 'during', 'drago', 'directors', 'depth', 'death', 'day', 'created', 'cover', 'costs', 'convincing', 'consider', 'comes', 'chemistry', 'charles', 'camerawork', 'came', 'bored', 'book', 'beginning', 'become', 'barely', 'back', 'attempt', 'appreciate', 'always', 'already', '2', 'youre', 'youll', 'yes', 'wrong', 'writer', 'write', 'words', 'wonderfully', 'women', 'wish', 'wind', 'while', 'whatsoever', 'weak', 'watchable', 'war', 'values', 'ups', 'under', 'unconvincing', 'type', 'turn', 'trilogy', 'touching', 'told', 'today', 'thrown', 'thoroughly', 'thinking', 'talented', 'surprisingly', 'sure', 'stunning', 'star', 'stage', 'spoilers', 'spent', 'speak', 'space', 'south', 'sort', 'something', 'someone', 'smart', 'singing', 'significant', 'shows', 'showed', 'shots', 'share', 'set', 'seriously', 'sense', 'seems', 'seemed', 'sea', 'screenwriter', 'score', 'scenery', 'scamp', 'scale', 'ruthless', 'remember', 'remake', 'released', 'recent', 'reason', 'ready', 'rate', 'ranks', 'racial', 'race', 'quality', 'pure', 'puppets', 'produced', 'problems', 'presents', 'possibly', 'possible', 'plus', 'plays', 'places', 'picture', 'perfectly', 'paul', 'particular', 'oscar', 'oh', 'obviously', 'note', 'nonsense', 'nobody', 'next', 'negative', 'narrative', 'moving', 'moment', 'might', 'mickey', 'memories', 'meaning', 'massive', 'martin', 'making', 'main', 'lots', 'looks', 'looking', 'location', 'living', 'lion', 'left', 'learn', 'laughable', 'knew', 'journey', 'james', 'isnt', 'interest', 'intelligent', 'incredibly', 'important', 'house', 'hill', 'hes', 'heart', 'havent', 'happened', 'happen', 'greatest', 'graphics', 'grace', 'god', 'given', 'giallo', 'genuine', 'gem', 'games', 'frightening', 'footage', 'finally', 'final', 'features', 'fear', 'favourite', 'faux', 'fantastic', 'fan', 'example', 'exactly', 'episode', 'enjoyable', 'emotions', 'embarrassing', 'effective', 'early', 'earlier', 'dvd', 'drive', 'down', 'documentary', 'dialog', 'delivers', 'decent', 'dancing', 'dance', 'course', 'conflict', 'conclusion', 'complete', 'coming', 'clichés', 'children', 'checking', 'cartoon', 'called', 'brilliance', 'brain', 'bought', 'bore', 'awesome', 'average', 'attention', 'arent', 'appearance', 'animation', 'although', 'along', 'age', 'aerial', 'addition', 'actresses', 'actress', 'acted', 'ability', '90s', '90', '1010', 'youd', 'yeah', 'working', 'wooden', 'wonder', 'witty', 'wilkinson', 'whom', 'wholesome', 'whiny', 'werent', 'weird', 'ways', 'wayne', 'watkins', 'water', 'warmth', 'wanted', 'wall', 'walked', 'vomit', 'volcano', 'visually', 'viewing', 'versus', 'uses', 'uplifting', 'until', 'unrecognizable', 'unpredictable', 'uninteresting', 'unfunny', 'unfolds', 'undoubtedly', 'understated', 'underneath', 'underlying', 'twist', 'twice', 'turns', 'turned', 'tremendously', 'towards', 'took', 'thrilled', 'themes', 'theme', 'terribly', 'terms', 'tension', 'ten', 'taped', 'talent', 'taking', 'takes', 'surrounding', 'surprising', 'supposedly', 'supposed', 'superbly', 'super', 'summary', 'sum', 'suffering', 'sublime', 'studio', 'struck', 'store', 'stinks', 'steve', 'stereotypes', 'step', 'stay', 'starts', 'start', 'stars', 'stanwyck', 'stand', 'spoiler', 'spoil', 'speed', 'soul', 'son', 'somewhat', 'smile', 'slightest', 'sleep', 'situation', 'sisters', 'sick', 'shed', 'shame', 'shakespear', 'several', 'setting', 'sequence', 'sentiment', 'senses', 'selfindulgent', 'season', 'schrader', 'scary', 'scared', 'sandra', 'sand', 'sake', 'running', 'run', 'room', 'robert', 'reviewer', 'review', 'revealing', 'return', 'result', 'remotely', 'remaining', 'relationships', 'relations', 'regret', 'references', 'redeeming', 'recently', 'received', 'reality', 'realistic', 'reading', 'reactions', 'ratings', 'racism', 'quinn', 'question', 'putting', 'pull', 'psychological', 'provoking', 'proud', 'process', 'proceedings', 'problem', 'previous', 'presence', 'predictably', 'portraying', 'popular', 'poorly', 'ponyo', 'pointless', 'poetry', 'plenty', 'pleased', 'player', 'pitiful', 'pieces', 'pictures', 'photography', 'pg13', 'peter', 'past', 'parents', 'painful', 'paid', 'pacing', 'paced', 'owned', 'overly', 'overacting', 'opening', 'opened', 'ones', 'offers', 'offensive', 'odd', 'occupied', 'obvious', 'nuts', 'noteworthy', 'notable', 'none', 'neil', 'needed', 'need', 'nature', 'natural', 'murdered', 'mouse', 'mother', 'morgan', 'moral', 'moments', 'modern', 'miyazakis', 'missed', 'mishima', 'mexican', 'mercy', 'member', 'mature', 'matter', 'material', 'masters', 'masterpieces', 'masterpiece', 'masterful', 'master', 'mark', 'mad', 'machine', 'macbeth', 'lucy', 'lousy', 'losing', 'los', 'lord', 'loneliness', 'loads', 'lives', 'literally', 'likes', 'lighting', 'light', 'levels', 'lets', 'length', 'leaves', 'leave', 'lazy', 'laugh', 'lange', 'lane', 'lacked', 'kinda', 'killing', 'killer', 'keeps', 'junkyard', 'june', 'jonah', 'joke', 'joes', 'jobs', 'jimmy', 'jerky', 'jean', 'jamie', 'italian', 'issues', 'iq', 'interplay', 'interested', 'instead', 'industry', 'including', 'impressive', 'impressed', 'implausible', 'imaginative', 'imaginable', 'identify', 'hustons', 'humour', 'humorous', 'honestly', 'home', 'hollywood', 'hollow', 'high', 'hence', 'helps', 'hell', 'heaven', 'heard', 'hear', 'head', 'hated', 'hate', 'hands', 'handled', 'hackneyed', 'guys', 'guy', 'gripping', 'gonna', 'goes', 'glance', 'genius', 'future', 'fulci', 'front', 'friends', 'fresh', 'french', 'freedom', 'free', 'frankly', 'form', 'forget', 'forces', 'following', 'focus', 'flynn', 'flaws', 'flawed', 'flat', 'five', 'fit', 'filmmaking', 'filmmaker', 'filmed', 'fifteen', 'female', 'feel', 'father', 'fat', 'fascinating', 'fall', 'exquisite', 'explanation', 'explain', 'exceptional', 'excellently', 'evil', 'european', 'etc', 'errol', 'era', 'entirely', 'engaging', 'empty', 'emily', 'emilio', 'element', 'edge', 'ed', 'earth', 'dumb', 'dull', 'duet', 'due', 'dreams', 'dramatic', 'doing', 'dogs', 'documentaries', 'doctor', 'disturbing', 'disliked', 'dislike', 'discovering', 'disaster', 'disappointment', 'disappointing', 'directorial', 'directed', 'despite', 'deserving', 'deserves', 'deserved', 'describe', 'depressing', 'depicts', 'delivering', 'delight', 'deeply', 'dedication', 'decay', 'dead', 'de', 'daughter', 'dark', 'dangerous', 'damn', 'credits', 'credit', 'creates', 'create', 'crazy', 'crafted', 'courtroom', 'costumes', 'cost', 'core', 'control', 'contrast', 'continuity', 'contains', 'contained', 'considering', 'computer', 'composition', 'complex', 'compelling', 'cole', 'clearly', 'church', 'christmas', 'choice', 'chilly', 'childhood', 'chick', 'cheesy', 'charming', 'charm', 'change', 'century', 'central', 'ceases', 'cause', 'case', 'cartoons', 'cardboard', 'cannot', 'canada', 'call', 'business', 'bunch', 'bullock', 'bring', 'brief', 'brian', 'bother', 'bold', 'blood', 'billy', 'betty', 'begin', 'began', 'became', 'beautifully', 'bear', 'basically', 'balance', 'badly', 'attempts', 'assistant', 'aspect', 'asleep', 'ask', 'aside', 'artist', 'appealing', 'appalling', 'anne', 'angles', 'angeles', 'angel', 'among', 'americans', 'american', 'alexander', 'air', 'ago', 'africa', 'afraid', 'advise', 'adorable', 'adaptation', 'act', 'achievement', 'accused', 'abysmal', 'above', '80s', '70s', '4', '30', '3', '25', '20th', '20', '110', '010', 'zombiez', 'zombiestudents', 'zombie', 'zillion', 'z', 'yun', 'youve', 'youtube', 'youthful', 'yourself', 'younger', 'youdo', 'yelps', 'yawn', 'yardley', 'wrotedirected', 'writers', 'wrap', 'wow', 'woven', 'wouldve', 'wouldbe', 'worthy', 'worthwhile', 'worthless', 'worry', 'worldweariness', 'worked', 'wordofmouth', 'woo', 'wong', 'wondered', 'woa', 'witticisms', 'within', 'win', 'wily', 'willie', 'william', 'wilkinsons', 'wild', 'wih', 'wifetobe', 'widmark', 'wide', 'whos', 'whoever', 'whites', 'whine', 'whenscamp', 'whenever', 'went', 'welsh', 'wellpaced', 'welldone', 'wellbalanced', 'weight', 'wedding', 'wed', 'website', 'weaving', 'weaker', 'wb', 'waylaid', 'wave', 'watsons', 'watson', 'wasting', 'washing', 'washed', 'warts', 'wartime', 'warning', 'warn', 'wants', 'wanting', 'walk', 'waitress', 'waiting', 'vulcan', 'voyage', 'vomited', 'volatile', 'voiceovers', 'voice', 'vocal', 'vivid', 'vivian', 'vitally', 'vision', 'virus', 'virtue', 'violinplaying', 'violence', 'villains', 'villain', 'views', 'viewers', 'view', 'video', 'victor', 'vibe', 'veteran', 'vessel', 'version', 'versatile', 'verbatim', 'verbal', 'ventura', 'vehicles', 'variation', 'vandiver', 'vampire', 'value', 'valentine', 'v', 'utter', 'ussr', 'using', 'user', 'ursula', 'uptight', 'upper', 'upas', 'unwatchable', 'unsatisfactory', 'unrestrained', 'unremarkable', 'unrecommended', 'unrealistic', 'unpredictability', 'unpleasant', 'unoriginal', 'unneeded', 'unnecessary', 'unmoving', 'unmitigated', 'unmatched', 'unlockable', 'unless', 'universe', 'universal', 'uniqueness', 'unique', 'union', 'unintentionally', 'unfortunate', 'unforgettable', 'unfaithful', 'unethical', 'unemployed', 'uneasy', 'underwater', 'undertone', 'understood', 'understatement', 'understanding', 'underrated', 'underlines', 'underbite', 'underappreciated', 'underacting', 'unconditional', 'uncalled', 'unbearably', 'unbearable', 'unaccompanied', 'um', 'ultracheap', 'uhura', 'ugly', 'ugliest', 'ue', 'typical', 'tying', 'twists', 'twirling', 'tvnever', 'turkey', 'tuneful', 'tsunami', 'trysts', 'truth', 'trumpeter', 'trumbull', 'truck', 'trouble', 'trooper', 'trond', 'triumphed', 'trip', 'trinity', 'tries', 'tremendous', 'trek', 'treatments', 'treat', 'treasure', 'treachery', 'trashy', 'trap', 'translating', 'translate', 'transfers', 'transcend', 'tranquillity', 'trainroller', 'trailer', 'traffic', 'traditional', 'tract', 'track', 'townsend', 'towers', 'tough', 'touches', 'touch', 'total', 'tortured', 'tops', 'toons', 'tony', 'tons', 'tonight', 'tongue', 'tone', 'tomorrow', 'tolerate', 'tolerable', 'todays', 'titta', 'title', 'tired', 'tiny', 'timing', 'timewaster', 'timers', 'timely', 'timeless', 'tightly', 'tickets', 'ticker', 'thus', 'thunderbirds', 'thumper', 'thug', 'throwback', 'thrillers', 'thrillerhorror', 'threshold', 'thread', 'thousand', 'thoughtsgabriels', 'thoughts', 'thoughtprovoking', 'thorsen', 'thomerson', 'thiswhen', 'thick', 'therapy', 'themeat', 'theatrical', 'theatres', 'theatre', 'thatsucked', 'thanks', 'th', 'terror', 'terminology', 'tensions', 'tender', 'temperaments', 'telly', 'television', 'telephone', 'teeth', 'teenagers', 'teen', 'tedium', 'teddy', 'technically', 'tears', 'tear', 'team', 'teaches', 'teacher', 'taylors', 'taylor', 'taxidermists', 'taste', 'task', 'tardis', 'tanks', 'talents', 'taken', 'taelons', 'tacky', 'system', 'syrupy', 'sympathetic', 'sydney', 'swords', 'switched', 'sweet', 'sweep', 'swamp', 'sven', 'suspension', 'survivors', 'surroundings', 'surprises', 'surprised', 'surface', 'surf', 'surely', 'supporting', 'supernatural', 'superlative', 'superintelligent', 'superficial', 'superbad', 'sundays', 'suited', 'suggests', 'suggest', 'suffered', 'suck', 'success', 'succeeds', 'succeeded', 'subverting', 'subversive', 'subtitles', 'subplots', 'subplot', 'subpar', 'sublimely', 'subjects', 'subject', 'subgenre', 'stupidity', 'stuff', 'study', 'student', 'stuart', 'struggle', 'structure', 'strokes', 'strives', 'string', 'strident', 'street', 'straw', 'stratus', 'stranger', 'strange', 'stowe', 'storytellinga', 'storm', 'stoic', 'stockings', 'stocking', 'stinker', 'stick', 'stewart', 'stereotypically', 'stephen', 'steele', 'steamboat', 'stealing', 'stayed', 'stateoftheart', 'starring', 'starlet', 'stanwycks', 'standout', 'stagy', 'stagey', 'stable', 'squibs', 'spy', 'spot', 'spoiled', 'spock', 'splendid', 'spiffy', 'sphere', 'spew', 'spend', 'specialtoo', 'speaking', 'span', 'spacey', 'spacek', 'southern', 'sour', 'sounds', 'sounded', 'sorry', 'sorrentino', 'sophisticated', 'soon', 'solidifying', 'sole', 'soldiers', 'social', 'sobering', 'sobaditsmemorable', 'sobaditsgood', 'soap', 'snow', 'snider', 'smoothly', 'smith', 'smiling', 'smells', 'smack', 'slurs', 'slowmoving', 'slowmotion', 'sloppy', 'slimy', 'slightly', 'slideshow', 'slavic', 'slackers', 'skip', 'skilled', 'situations', 'sits', 'sites', 'site', 'sitcoms', 'sit', 'sister', 'sinking', 'sink', 'sinister', 'sing', 'sincere', 'simplifying', 'simmering', 'silly', 'sign', 'sidelined', 'side', 'sibling', 'shutdown', 'showthese', 'showcasing', 'shortlist', 'shooting', 'shocking', 'shirley', 'shined', 'shes', 'shepards', 'shenanigans', 'shelves', 'shell', 'shelf', 'sheer', 'shattered', 'shatner', 'sharply', 'sharing', 'shameful', 'shallow', 'shakespears', 'sexobsessed', 'seuss', 'settings', 'served', 'sequences', 'sequels', 'sequel', 'seperate', 'sensitivities', 'sensibility', 'senior', 'semi', 'sells', 'selfsacrifice', 'selfrespecting', 'selfpreservation', 'selfdiscovery', 'self', 'selections', 'seeing\\x85', 'secondly', 'secondary', 'seat', 'sean', 'seamlessly', 'seamless', 'sculpture', 'scripts', 'scripting', 'scripted', 'scrimm', 'screenplay', 'screenjames', 'screened', 'screamy', 'scream', 'scot', 'scifis', 'scientist', 'science', 'sci', 'schultz', 'schoolers', 'school', 'schizophrenic', 'schilling', 'scares', 'scaredand', 'scare', 'says', 'savor', 'save', 'savalas', 'sat', 'sarcophage', 'sappiest', 'sample', 'sam', 'salesman', 'sad', 'sack', 'sabotages', 's', 'ryans', 'ryan', 'rumbles', 'rubin', 'rubbish', 'rpger', 'rpg', 'row', 'routine', 'round', 'rough', 'roths', 'roosevelts', 'romanticcharminghilariousand', 'rolls', 'roeg', 'rocks', 'rocked', 'rochonwas', 'robotic', 'road', 'riz', 'riveted', 'rivalry', 'rita', 'rise', 'rips', 'riot', 'ridiculousness', 'rickman', 'rices', 'reviews', 'reviewers', 'reversestereotypes', 'revere', 'revenge', 'retreat', 'retarded', 'resume', 'results', 'restrained', 'resounding', 'rescue', 'require', 'represents', 'reporter', 'repertory', 'repeats', 'repeating', 'repeated', 'repair', 'renowned', 'rendition', 'rendering', 'removing', 'reminded', 'remarkable', 'relying', 'relief', 'release', 'relaxing', 'relatively', 'relationship', 'relation', 'related', 'relate', 'rejection', 'regrettably', 'regrettable', 'regardless', 'refreshing', 'reflected', 'reenactments', 'redeemed', 'recurring', 'recover', 'reconciliation', 'receive', 'reasons', 'reasonable', 'realized', 'realize', 'realised', 'readers', 'raw', 'raver', 'rated', 'rare', 'range', 'random', 'raging', 'radiant', 'r', 'québec', 'quiet', 'quicker', 'quick', 'questioning', 'qualities', 'quaid', 'pyromaniac', 'puzzlesolving', 'purity', 'puppet', 'punishment', 'punish', 'punches', 'punched', 'pulls', 'pulling', 'public', 'psychotic', 'pseudosatanic', 'ps', 'provokes', 'provided', 'proudly', 'properly', 'propaganda', 'prone', 'prompted', 'promote', 'progresses', 'professor', 'professionals', 'product', 'producers', 'producer', 'produce', 'problems\\x97the', 'primary', 'primal', 'pretext', 'president', 'prepared', 'prelude', 'prejudice', 'predict', 'precisely', 'prays', 'practically', 'practical', 'powerhouse', 'powerful', 'power', 'potted', 'postproduction', 'positive', 'portrayed', 'portrayals', 'popcorn', 'politics', 'politically', 'political', 'poler', 'poised', 'pointillistic', 'poignant', 'poets', 'pm', 'plug', 'plmer', 'pledge', 'pleaser', 'pleasant', 'players', 'plants', 'planned', 'plane', 'pitch', 'pillow', 'pile', 'pied', 'picked', 'physical', 'phrase', 'photographycinematography', 'photograph', 'phony', 'philippa', 'phenomenal', 'phantasm', 'pgrated', 'pg', 'personally', 'personalities', 'person', 'perplexing', 'perfected', 'perabo', 'pedestal', 'peculiarity', 'pearls', 'peaking', 'pay', 'patriotism', 'patent', 'passion', 'passed', 'partaking', 'parker', 'park', 'paper', 'pap', 'paolo', 'pans', 'pandering', 'palance', 'pair', 'painted', 'paint', 'painfully', 'pack', 'pace', 'oyvey', 'owns', 'owls', 'owed', 'overwrought', 'overt', 'overdue', 'overcome', 'outward', 'outside', 'outlets', 'outlandish', 'outit', 'outhe', 'ought', 'otherwise', 'others', 'ortolani', 'origins', 'originality', 'oriented', 'ordeal', 'opinion', 'operas', 'open', 'onscreen', 'onedimensional', 'once', 'omit', 'olivia', 'ole', 'oldfashioned', 'older', 'olde', 'okay', 'ohsomature', 'offer', 'offend', 'oconnor', 'occurs', 'occur', 'obliged', 'nutbag', 'nut', 'nurse', 'nuns', 'nun', 'numbers', 'number', 'novella', 'notch', 'nostalgia', 'northern', 'normally', 'nor', 'nonsequel', 'nonresearched', 'nonlinear', 'nonexistent', 'nonetheless', 'noncliche', 'noircrimedrama', 'noir', 'noble', 'nine', 'nimoy', 'nicolas', 'nevsky', 'nevertheless', 'network', 'netflix', 'net', 'nervous', 'nerves', 'neighbourgirl', 'negulesco', 'needlessly', 'necklace', 'nearly', 'nc17', 'naughty', 'native', 'nationalities', 'national', 'nasty', 'narration', 'nakedbilly', 'n', 'mystifying', 'musthave', 'musicincluding', 'musician', 'murky', 'murdering', 'murder', 'muppets', 'muddled', 'mst3k', 'ms', 'moviemaking', 'movieits', 'movieit', 'moviegoing', 'moves', 'movements', 'moved', 'move', 'mouth', 'mountain', 'motivations', 'morons', 'monumental', 'monstrous', 'monster', 'monotonous', 'monolog', 'monica', 'momentum', 'mollusk', 'modest', 'miyazaki', 'mistakes', 'miss', 'misplace', 'miserably', 'miserable', 'mirrormask', 'minor', 'miniseries', 'mini', 'miners', 'mindblowing', 'mindbendingly', 'mighty', 'middleaged', 'microsoft', 'mickeys', 'michael', 'meteorite', 'messages', 'mesmerising', 'merit', 'meredith', 'menacing', 'menace', 'memorized', 'members', 'melville', 'melodrama', 'meld', 'medical', 'meant', 'meanings', 'meanders', 'meagre', 'mclaglen', 'mchattie', 'matthews', 'matrix', 'masculinity', 'masculine', 'marriage', 'marred', 'marion', 'marine', 'march', 'marbles', 'mansonites', 'manna', 'manages', 'managed', 'malta', 'males', 'malebonding', 'male', 'makers', 'major', 'mainly', 'magnificent', 'm', 'lyrics', 'luvs', 'lust', 'lugosi', 'lucio', 'loyalty', 'lower', 'lowbudget', 'loves', 'lovable', 'loosely', 'loose', 'longer', 'london', 'logic', 'loewenhielms', 'locations', 'local', 'livingworking', 'lived', 'littered', 'list', 'lino', 'linda', 'limited', 'limitations', 'lilt', 'lilli', 'lifetime', 'lifeoh', 'lifemy', 'lieutenant', 'lies', 'lie', 'lid', 'lewis', 'letting', 'lestat', 'lesserknown', 'lesser', 'leni', 'legendary', 'legal', 'leeand', 'leaving', 'leap', 'leading', 'layers', 'laughs', 'laughedkids', 'latterday', 'latin', 'latifas', 'latest', 'later', 'late', 'latched', 'lasting', 'lassie', 'laselva', 'largely', 'landscapes', 'lance', 'lady', 'ladies', 'lack', 'labute', 'la', 'kudos', 'kristoffersen', 'kris', 'koteasjack', 'knows', 'known', 'knocked', 'knightley', 'kitchy', 'kirk', 'killings', 'kill', 'kieslowski', 'kidnapped', 'kevin', 'kept', 'keith', 'keira', 'kathy', 'kanalys', 'jutland', 'justice', 'junk', 'julian', 'judo', 'judith', 'judging', 'judge', 'juano', 'joyces', 'jones', 'jokes', 'joins', 'jim', 'jet', 'jessice', 'jessica', 'jerry', 'jennifer', 'jealousy', 'jay', 'jason', 'japanese', 'jaclyn', 'itbuy', 'is\\x85was', 'issue', 'ishioka', 'irritating', 'ironside', 'irons', 'ironically', 'ireland', 'involving', 'involves', 'inventive', 'intrigued', 'intoning', 'interview', 'interpretations', 'interim', 'interacting', 'intentions', 'intensity', 'intense', 'integration', 'integral', 'intangibles', 'insulin', 'instruments', 'instant', 'inspiring', 'inspiration', 'insomniacs', 'insipid', 'insincere', 'inside', 'insane', 'innocence', 'initially', 'inexplicable', 'inexperience', 'ineptly', 'indulgent', 'indoor', 'individual', 'indie', 'indictment', 'indication', 'indescribably', 'incorrectness', 'inconsistencies', 'incomprehensible', 'includes', 'incendiary', 'inappropriate', 'impulse', 'improvisation', 'improvement', 'improved', 'impression', 'impossible', 'imperial', 'impact', 'imitation', 'imdb', 'imagine', 'iffy', 'ie', 'idyllic', 'idiotsavant', 'idiotic', 'idiot', 'identifies', 'identified', 'idealogical', 'hypocrisy', 'hype', 'huston', 'hurt', 'humor', 'hummh', 'humans', 'humanity', 'hugo', 'howell', 'howe', 'howdy', 'houses', 'hot', 'hosting', 'horse', 'horrorsuspense', 'horrified', 'horrid', 'horrendously', 'horrendous', 'hopeless', 'hopefully', 'hoot', 'honest', 'homework', 'hollander', 'holds', 'holding', 'hold', 'hoffmans', 'hockey', 'ho', 'hitchcocks', 'hip', 'himself', 'hilt', 'highlights', 'highest', 'higher', 'hide', 'heroism', 'heroine', 'heroes', 'hero', 'hernandez', 'heres', 'hendrikson', 'helping', 'help', 'helms', 'hellish', 'helen', 'heist', 'heche', 'heartwarming', 'hearts', 'heads', 'headoverheels', 'hbo', 'hayworth', 'hayao', 'hay', 'havilland', 'hatred', 'hasnt', 'harris', 'happy', 'happiness', 'hanks', 'hankies', 'hang', 'handles', 'handle', 'handdrawn', 'hand', 'ham', 'halfway', 'hairsplitting', 'hair', 'haggis', 'hadnt', 'gung', 'guilt', 'guests', 'guards', 'groundbreaking', 'gross', 'groove', 'grimes', 'grim', 'grew', 'greenstreet', 'greatness', 'greatespecially', 'grates', 'grasp', 'granted', 'grainy', 'gradually', 'grade', 'government', 'gotten', 'gotta', 'goth', 'gosh', 'gorman', 'goremeister', 'gore', 'gone', 'gods', 'goalies', 'gloriously', 'glassesthe', 'giving', 'girolamo', 'girls', 'girlfriendboyfriend', 'girlfriend', 'giovanni', 'gifted', 'gibberish', 'ghibili', 'getting', 'gere', 'gerardo', 'george', 'gently', 'genre', 'generic', 'generates', 'general', 'geek', 'gay', 'gaudi', 'gas', 'garfield', 'garbo', 'garage', 'gallon', 'galley', 'gake', 'gain', 'gadget', 'g', 'further', 'funnyall', 'funniest', 'fundamental', 'function', 'fumbling', 'fully', 'fulfilling', 'frustration', 'frost', 'frontier', 'friendship', 'freshness', 'freeman', 'francis', 'frances', 'foxx', 'foxs', 'fox', 'four', 'forwarded', 'forth', 'fort', 'former', 'format', 'forgotten', 'forgot', 'forgetting', 'forgettable', 'forever', 'foreigner', 'foreign', 'ford', 'forced', 'force', 'football', 'foolish', 'follows', 'fodder', 'flying', 'flowed', 'florida', 'flicks', 'fleshed', 'flaw', 'flashbacks', 'flaming', 'flakes', 'flag', 'fisted', 'fishnet', 'fish', 'fire', 'finished', 'fingernails', 'finest', 'finds', 'financial', 'finale', 'filmsomething', 'filmography', 'filmmostly', 'filmiing', 'fill', 'fifties', 'fields', 'fi', 'fest', 'ferry', 'females', 'fellowes', 'feisty', 'feet', 'feelings', 'feelgood', 'feature', 'favorite', 'fausa', 'faultless', 'faster', 'fascination', 'fascinated', 'fare', 'farce', 'fantasy', 'fanciful', 'famous', 'familys', 'famed', 'fame', 'falwell', 'falsely', 'falls', 'falling', 'faithful', 'fairly', 'fair', 'failed', 'factory', 'factbased', 'facing', 'facial', 'faces', 'fabulous', 'eyepleasing', 'eye', 'extraordinary', 'extraneous', 'exteriors', 'extant', 'expression', 'explosion', 'explorations', 'exploit', 'explains', 'expert', 'experiences', 'expecting', 'expected', 'expectations', 'expansive', 'existential', 'exemplars', 'executed', 'excuses', 'excuse', 'excruciatingly', 'exciting', 'exchange', 'excessively', 'excerpts', 'exceptionally', 'except', 'excellentangel', 'exaggerating', 'evokes', 'evinced', 'evidently', 'everywhere', 'everyones', 'everybody', 'events', 'evaluate', 'etcits', 'estevezs', 'estevez', 'estate', 'established', 'establish', 'essence', 'escapism', 'escalating', 'errors', 'equivalent', 'episodes', 'entrance', 'entertained', 'enterprise', 'enter', 'enjoyment', 'enhanced', 'english', 'energetic', 'ends', 'endlessly', 'ended', 'endearing', 'endall', 'enchanting', 'en', 'emptiness', 'empowerment', 'emperor', 'emotionally', 'emotion', 'emoting', 'emerge', 'embassy', 'embarrassed', 'elsewhere', 'elses', 'eloquently', 'elias', 'elegant', 'elderly', 'elaborately', 'eiko', 'eighth', 'egotism', 'efforts', 'effort', 'effect', 'edward', 'educational', 'edition', 'eccleston', 'ebola', 'ebay', 'eating', 'dysfunctionhe', 'dwight', 'dustin', 'duris', 'duper', 'dumbest', 'duethe', 'dry', 'dropped', 'drooling', 'drifting', 'drift', 'dribble', 'dreary', 'dream', 'drawings', 'drag', 'draft', 'dracula', 'dr', 'dozen', 'downs', 'doubt', 'dosent', 'doomed', 'donlevy', 'don', 'dominated', 'dollars', 'dodge', 'diving', 'distressed', 'distract', 'distorted', 'distinction', 'distant', 'disparate', 'disneypixars', 'disgusting', 'disgrace', 'discomfort', 'disbelief', 'directtovideo', 'dignity', 'difference', 'dickens', 'diaper', 'dialogs', 'diabetic', 'di', 'developments', 'development', 'develop', 'details', 'detailing', 'destroy', 'despised', 'desperation', 'desperately', 'designer', 'designed', 'design', 'desert', 'describes', 'derivative', 'depicted', 'depends', 'depending', 'dependant', 'delivered', 'deliver', 'delights', 'delightful', 'delete', 'defined', 'defensemen', 'deep', 'dee', 'decisions', 'decipher', 'decidely', 'debut', 'debits', 'debbie', 'debated', 'dealt', 'deal', 'deadpan', 'deadly', 'days', 'daughters', 'darren', 'danceall', 'damian', 'dads', 'cutting', 'cuts', 'cutouts', 'cutie', 'cutest', 'cutebut', 'cute', 'custer', 'curtain', 'cultures', 'culture', 'cry', 'cruises', 'cruel', 'crowes', 'crowdpleaserthis', 'crowd', 'cross', 'crocs', 'crocdodile', 'critical', 'critic', 'crisp', 'crew', 'credible', 'creature', 'creativity', 'creative', 'crayons', 'crayonpencil', 'crashed', 'crash', 'crackles', 'cox', 'cowardice', 'court', 'couple', 'cotton', 'costars', 'correct', 'corny', 'corn', 'cords', 'coppolas', 'coppola', 'convoluted', 'convince', 'convey', 'convention', 'controversy', 'contrived', 'contributory', 'contributing', 'contract', 'continuously', 'continue', 'continuation', 'continually', 'content', 'containing', 'constructed', 'constantine', 'constant', 'consolations', 'consistent', 'considers', 'considered', 'considerable', 'consequences', 'conrad', 'connerys', 'connery', 'connections', 'confusing', 'confuses', 'confirm', 'configuration', 'confidence', 'condescends', 'concert', 'concerns', 'concerning', 'conceptually', 'conception', 'concentrate', 'compromise', 'comprehensible', 'composed', 'complexity', 'completed', 'competent', 'companys', 'community', 'commercial', 'comments', 'commented', 'commentary', 'comment', 'commands', 'comical', 'comforting', 'comfortable', 'comedic', 'columbo', 'colours', 'colorful', 'colored', 'collective', 'collect', 'cold', 'coherent', 'coaster', 'coastal', 'coal', 'coach', 'club', 'clothes', 'closeups', 'closeup', 'closed', 'close', 'climax', 'cliff', 'clients', 'clear', 'classical', 'class', 'circumstances', 'cinematographyif', 'cinematographers', 'cinematic', 'christopher', 'chow', 'chosen', 'choked', 'choices', 'chodorov', 'chimplike', 'chills', 'childrens', 'cheesiness', 'cheerless', 'cheerfull', 'cheekbones', 'cheek', 'check', 'cheaply', 'chasing', 'chase', 'charlie', 'charismatic', 'charismafree', 'charisma', 'characterisation', 'characterage', 'channel', 'changing', 'changes', 'chanceit', 'chance', 'challenges', 'chalkboard', 'cgi', 'cg', 'certain', 'centers', 'celluloid', 'celebrity', 'celebration', 'caught', 'catchy', 'cat', 'casted', 'cases', 'cars', 'carry', 'carries', 'carrell', 'carol', 'cardellini', 'card', 'car', 'captures', 'captured', 'captain', 'cando', 'candle', 'candace', 'cancan', 'campy', 'camp', 'cameo', 'calls', 'california', 'cailles', 'cable', 'buy', 'burtons', 'bully', 'built', 'buildup', 'buildings', 'builders', 'buffet', 'buffalo', 'buddy', 'brutal', 'brother', 'brooding', 'broke', 'broad', 'brings', 'brilliantly', 'bright', 'brigand', 'brevity', 'breeders', 'brat', 'brainsucking', 'boyle', 'box', 'bothersome', 'boss', 'borrowed', 'boringpointless', 'borders', 'borderlines', 'bordered', 'bop', 'boost', 'boogeyman', 'boobs', 'bonuses', 'bonus', 'bond', 'bombardments', 'boiling', 'bohemian', 'body', 'bob', 'boasts', 'blush', 'bluegreenscreen', 'blown', 'blist', 'blew', 'blatant', 'blare', 'blandly', 'bland', 'blake', 'blah', 'blacks', 'bitchy', 'bipolarity', 'biographical', 'biggest', 'bigbudget', 'bible', 'beware', 'bertolucci', 'bergens', 'bennett', 'ben', 'belowpar', 'below', 'belmondo', 'belly', 'bellucci', 'bell', 'believed', 'bela', 'behold', 'behind', 'beforei', 'becomes', 'bechard', 'beall', 'baxendale', 'bates', 'bat', 'basic', 'barren', 'barney', 'barking', 'barcelona', 'band', 'balls', 'ballet', 'ball', 'balanced', 'bakery', 'baileys', 'badwellits', 'badass', 'backed', 'backdrop', 'babysitting', 'baby', 'babie', 'babbling', 'baaaaaad', 'b', 'aye', 'awkwardly', 'awards', 'awarded', 'award', 'avoided', 'aversion', 'author', 'austere', 'austens', 'aurvåg', 'audio', 'attractive', 'attempting', 'attempted', 'atrocity', 'atrocious', 'atmosphere', 'astronauts', 'astronaut', 'astonishingly', 'assaulted', 'assante', 'ass', 'aspects', 'arts', 'artless', 'artistic', 'artiness', 'articulated', 'array', 'armand', 'armageddon', 'argued', 'apt', 'appropriate', 'applause', 'applauded', 'appears', 'apart', 'anyway', 'anythinga', 'antithesis', 'anthony', 'anniversary', 'annes', 'ann', 'anita', 'animated', 'animals', 'angus', 'anguish', 'angry', 'angle', 'angelina', 'angela', 'andor', 'anatomist', 'amusing', 'americas', 'america', 'amazingstylized', 'amazingly', 'amazed', 'amaze', 'amateurish', 'alongside', 'allstar', 'allowing', 'allow', 'allison', 'alike', 'alert', 'akin', 'akasha', 'aired', 'aimless', 'agreed', 'agree', 'ages', 'against', 'afternoon', 'affleck', 'affected', 'aesthetically', 'adventure', 'adrift', 'adorablethe', 'adorablehis', 'admitted', 'admiration', 'admins', 'added', 'add', 'adams', 'actorsan', 'actions', 'actingwise', 'actingeven', 'ackerman', 'achille', 'accurately', 'accurate', 'accolades', 'acclaimed', 'accessible', 'accents', 'academy', 'abstruse', 'abroad', 'abandoned', 'aailiyah', '95', '910', '9', '8pm', '815pm', '810', '80', '8', '750', '70000', '5year', '54', '50', '5', '40', '20the', '2006', '2005', '1998', '1995', '1986', '1980s', '1973', '1971', '1949', '1948', '1947', '1928', '18th', '15', '12']\n"
          ]
        }
      ]
    },
    {
      "cell_type": "code",
      "source": [
        "a =  vectorize_layer.get_vocabulary()\n",
        "print (a)\n",
        "print (a.index('movie'))"
      ],
      "metadata": {
        "colab": {
          "base_uri": "https://localhost:8080/"
        },
        "id": "jqkpYXsMLNOf",
        "outputId": "d7994688-b407-4b42-95d7-4b582bd2377e"
      },
      "execution_count": 46,
      "outputs": [
        {
          "output_type": "stream",
          "name": "stdout",
          "text": [
            "['', '[UNK]', 'the', 'a', 'and', 'of', 'is', 'this', 'i', 'it', 'to', 'in', 'was', 'movie', 'that', 'film', 'for', 'as', 'but', 'with', 'its', 'one', 'you', 'on', 'are', 'not', 'bad', 'very', 'just', 'so', 'all', 'good', 'at', 'an', 'there', 'be', 'about', 'by', 'have', 'like', 'from', 'if', 'time', 'really', 'his', 'acting', 'out', 'or', 'great', 'even', 'who', 'were', 'he', 'has', 'see', 'characters', 'my', 'most', 'how', 'well', 'no', 'more', 'only', 'movies', 'ever', 'story', 'when', 'some', 'plot', 'made', 'films', 'they', 'dont', 'your', 'best', 'because', 'also', 'than', 'script', 'can', 'way', 'seen', 'other', 'would', 'which', 'what', 'watching', 'me', 'make', 'love', 'her', 'didnt', 'character', 'will', 'think', 'real', 'could', 'any', 'much', 'had', 'every', 'do', 'up', 'too', 'scenes', 'look', 'work', 'wonderful', 'funny', 'cast', 'better', 'actors', 'watch', 'them', 'over', 'never', 'little', 'into', '10', 'show', 'everything', 'totally', 'their', 'here', 'excellent', 'both', 'anyone', 'years', 'waste', 'stupid', 'still', 'scene', 'people', 'nothing', 'many', 'know', 'go', 'get', 'awful', 'writing', 'worth', 'two', 'thing', 'say', 'right', 'recommend', 'pretty', 'music', 'man', 'dialogue', 'again', 'after', 'those', 'things', 'terrible', 'such', 'saw', 'performance', 'line', 'ive', 'interesting', 'doesnt', 'cant', 'being', 'been', 'art', 'worst', 'worse', 'thought', 'though', 'should', 'short', 'she', 'screen', 'part', 'im', 'give', 'first', 'enough', 'ending', 'did', 'beautiful', 'through', 'simply', 'quite', 'predictable', 'played', 'piece', 'off', 'now', 'loved', 'liked', 'life', 'however', 'highly', 'find', 'feeling', 'end', 'director', 'between', 'actually', 'actor', 'whole', 'we', 'watched', 'understand', 'truly', 'thats', 'play', 'lot', 'least', 'job', 'going', 'game', 'enjoyed', 'effects', 'drama', 'does', 'directing', 'definitely', 'boring', 'black', 'big', 'am', 'almost', 'absolutely', 'white', 'where', 'used', 'these', 'theres', 'then', 'sucks', 'special', 'probably', 'myself', 'minutes', 'mess', 'makes', 'long', 'kind', 'kids', 'got', 'found', 'cinematography', 'cinema', 'certainly', 'camera', 'believe', 'avoid', 'amazing', 'written', 'wasted', 'wasnt', 'tv', 'top', 'together', 'suspense', 'subtle', 'series', 'our', 'old', 'must', 'lines', 'john', 'horror', 'garbage', 'far', 'fact', 'experience', 'everyone', 'especially', 'each', 'done', 'cool', 'comedy', 'around', 'anything', 'another', 'action', 'wont', 'why', 'whatever', 'want', 'use', 'throughout', 'take', 'sucked', 'style', 'sound', 'seeing', 'second', 'rent', 'recommended', 'rather', 'portrayal', 'poor', 'playing', 'performances', 'perfect', 'own', 'nice', 'money', 'lacks', 'incredible', 'id', 'human', 'horrible', 'holes', 'history', 'him', 'having', 'half', 'gives', 'girl', 'gets', 'flick', 'few', 'family', 'entire', 'editing', 'disappointed', 'crap', 'classic', 'cheap', 'casting', 'brilliant', 'believable', 'annoying', '\\x96', 'yet', 'world', 'works', 'us', 'tom', 'times', 'terrific', 'talk', 'superb', 'strong', 'started', 'solid', 'single', 'since', 'silent', 'shot', 'same', 'said', 'ridiculous', 'put', 'period', 'pathetic', 'particularly', 'overall', 'often', 'night', 'new', 'mostly', 'mention', 'memorable', 'lead', 'lame', 'joy', 'involved', 'hour', 'hitchcock', 'hilarious', 'guess', 'gave', 'fun', 'full', 'fine', 'felt', 'fast', 'fans', 'fails', 'face', 'enjoy', 'direction', 'different', 'cult', 'couldnt', 'completely', 'come', 'clever', 'child', 'care', 'budget', 'bit', 'beyond', 'before', 'away', 'audience', 'amount', '1', 'young', 'year', 'wouldnt', 'word', 'without', 'whether', 'visual', 'utterly', 'usual', 'unfortunately', 'unbelievable', 'trying', 'try', 'true', 'trash', 'torture', 'thriller', 'three', 'theyre', 'themselves', 'theater', 'tell', 'tale', 'storyline', 'stories', 'soundtrack', 'songs', 'song', 'sometimes', 'small', 'slow', 'sets', 'serious', 'seem', 'roles', 'role', 'rest', 'ray', 'rating', 'production', 'pretentious', 'premise', 'point', 'plain', 'place', 'perhaps', 'parts', 'original', 'occasionally', 'minute', 'mind', 'mediocre', 'mean', 'maybe', 'may', 'low', 'lovely', 'lost', 'looked', 'level', 'let', 'less', 'last', 'keep', 'itself', 'intelligence', 'insult', 'indeed', 'imagination', 'ill', 'idea', 'huge', 'hours', 'hope', 'hard', 'glad', 'generally', 'fx', 'follow', 'eyes', 'extremely', 'expect', 'entertaining', 'energy', 'else', 'either', 'easy', 'easily', 'during', 'drago', 'directors', 'depth', 'death', 'day', 'created', 'cover', 'costs', 'convincing', 'consider', 'comes', 'chemistry', 'charles', 'camerawork', 'came', 'bored', 'book', 'beginning', 'become', 'barely', 'back', 'attempt', 'appreciate', 'always', 'already', '2', 'youre', 'youll', 'yes', 'wrong', 'writer', 'write', 'words', 'wonderfully', 'women', 'wish', 'wind', 'while', 'whatsoever', 'weak', 'watchable', 'war', 'values', 'ups', 'under', 'unconvincing', 'type', 'turn', 'trilogy', 'touching', 'told', 'today', 'thrown', 'thoroughly', 'thinking', 'talented', 'surprisingly', 'sure', 'stunning', 'star', 'stage', 'spoilers', 'spent', 'speak', 'space', 'south', 'sort', 'something', 'someone', 'smart', 'singing', 'significant', 'shows', 'showed', 'shots', 'share', 'set', 'seriously', 'sense', 'seems', 'seemed', 'sea', 'screenwriter', 'score', 'scenery', 'scamp', 'scale', 'ruthless', 'remember', 'remake', 'released', 'recent', 'reason', 'ready', 'rate', 'ranks', 'racial', 'race', 'quality', 'pure', 'puppets', 'produced', 'problems', 'presents', 'possibly', 'possible', 'plus', 'plays', 'places', 'picture', 'perfectly', 'paul', 'particular', 'oscar', 'oh', 'obviously', 'note', 'nonsense', 'nobody', 'next', 'negative', 'narrative', 'moving', 'moment', 'might', 'mickey', 'memories', 'meaning', 'massive', 'martin', 'making', 'main', 'lots', 'looks', 'looking', 'location', 'living', 'lion', 'left', 'learn', 'laughable', 'knew', 'journey', 'james', 'isnt', 'interest', 'intelligent', 'incredibly', 'important', 'house', 'hill', 'hes', 'heart', 'havent', 'happened', 'happen', 'greatest', 'graphics', 'grace', 'god', 'given', 'giallo', 'genuine', 'gem', 'games', 'frightening', 'footage', 'finally', 'final', 'features', 'fear', 'favourite', 'faux', 'fantastic', 'fan', 'example', 'exactly', 'episode', 'enjoyable', 'emotions', 'embarrassing', 'effective', 'early', 'earlier', 'dvd', 'drive', 'down', 'documentary', 'dialog', 'delivers', 'decent', 'dancing', 'dance', 'course', 'conflict', 'conclusion', 'complete', 'coming', 'clichés', 'children', 'checking', 'cartoon', 'called', 'brilliance', 'brain', 'bought', 'bore', 'awesome', 'average', 'attention', 'arent', 'appearance', 'animation', 'although', 'along', 'age', 'aerial', 'addition', 'actresses', 'actress', 'acted', 'ability', '90s', '90', '1010', 'youd', 'yeah', 'working', 'wooden', 'wonder', 'witty', 'wilkinson', 'whom', 'wholesome', 'whiny', 'werent', 'weird', 'ways', 'wayne', 'watkins', 'water', 'warmth', 'wanted', 'wall', 'walked', 'vomit', 'volcano', 'visually', 'viewing', 'versus', 'uses', 'uplifting', 'until', 'unrecognizable', 'unpredictable', 'uninteresting', 'unfunny', 'unfolds', 'undoubtedly', 'understated', 'underneath', 'underlying', 'twist', 'twice', 'turns', 'turned', 'tremendously', 'towards', 'took', 'thrilled', 'themes', 'theme', 'terribly', 'terms', 'tension', 'ten', 'taped', 'talent', 'taking', 'takes', 'surrounding', 'surprising', 'supposedly', 'supposed', 'superbly', 'super', 'summary', 'sum', 'suffering', 'sublime', 'studio', 'struck', 'store', 'stinks', 'steve', 'stereotypes', 'step', 'stay', 'starts', 'start', 'stars', 'stanwyck', 'stand', 'spoiler', 'spoil', 'speed', 'soul', 'son', 'somewhat', 'smile', 'slightest', 'sleep', 'situation', 'sisters', 'sick', 'shed', 'shame', 'shakespear', 'several', 'setting', 'sequence', 'sentiment', 'senses', 'selfindulgent', 'season', 'schrader', 'scary', 'scared', 'sandra', 'sand', 'sake', 'running', 'run', 'room', 'robert', 'reviewer', 'review', 'revealing', 'return', 'result', 'remotely', 'remaining', 'relationships', 'relations', 'regret', 'references', 'redeeming', 'recently', 'received', 'reality', 'realistic', 'reading', 'reactions', 'ratings', 'racism', 'quinn', 'question', 'putting', 'pull', 'psychological', 'provoking', 'proud', 'process', 'proceedings', 'problem', 'previous', 'presence', 'predictably', 'portraying', 'popular', 'poorly', 'ponyo', 'pointless', 'poetry', 'plenty', 'pleased', 'player', 'pitiful', 'pieces', 'pictures', 'photography', 'pg13', 'peter', 'past', 'parents', 'painful', 'paid', 'pacing', 'paced', 'owned', 'overly', 'overacting', 'opening', 'opened', 'ones', 'offers', 'offensive', 'odd', 'occupied', 'obvious', 'nuts', 'noteworthy', 'notable', 'none', 'neil', 'needed', 'need', 'nature', 'natural', 'murdered', 'mouse', 'mother', 'morgan', 'moral', 'moments', 'modern', 'miyazakis', 'missed', 'mishima', 'mexican', 'mercy', 'member', 'mature', 'matter', 'material', 'masters', 'masterpieces', 'masterpiece', 'masterful', 'master', 'mark', 'mad', 'machine', 'macbeth', 'lucy', 'lousy', 'losing', 'los', 'lord', 'loneliness', 'loads', 'lives', 'literally', 'likes', 'lighting', 'light', 'levels', 'lets', 'length', 'leaves', 'leave', 'lazy', 'laugh', 'lange', 'lane', 'lacked', 'kinda', 'killing', 'killer', 'keeps', 'junkyard', 'june', 'jonah', 'joke', 'joes', 'jobs', 'jimmy', 'jerky', 'jean', 'jamie', 'italian', 'issues', 'iq', 'interplay', 'interested', 'instead', 'industry', 'including', 'impressive', 'impressed', 'implausible', 'imaginative', 'imaginable', 'identify', 'hustons', 'humour', 'humorous', 'honestly', 'home', 'hollywood', 'hollow', 'high', 'hence', 'helps', 'hell', 'heaven', 'heard', 'hear', 'head', 'hated', 'hate', 'hands', 'handled', 'hackneyed', 'guys', 'guy', 'gripping', 'gonna', 'goes', 'glance', 'genius', 'future', 'fulci', 'front', 'friends', 'fresh', 'french', 'freedom', 'free', 'frankly', 'form', 'forget', 'forces', 'following', 'focus', 'flynn', 'flaws', 'flawed', 'flat', 'five', 'fit', 'filmmaking', 'filmmaker', 'filmed', 'fifteen', 'female', 'feel', 'father', 'fat', 'fascinating', 'fall', 'exquisite', 'explanation', 'explain', 'exceptional', 'excellently', 'evil', 'european', 'etc', 'errol', 'era', 'entirely', 'engaging', 'empty', 'emily', 'emilio', 'element', 'edge', 'ed', 'earth', 'dumb', 'dull', 'duet', 'due', 'dreams', 'dramatic', 'doing', 'dogs', 'documentaries', 'doctor', 'disturbing', 'disliked', 'dislike', 'discovering', 'disaster', 'disappointment', 'disappointing', 'directorial', 'directed', 'despite', 'deserving', 'deserves', 'deserved', 'describe', 'depressing', 'depicts', 'delivering', 'delight', 'deeply', 'dedication', 'decay', 'dead', 'de', 'daughter', 'dark', 'dangerous', 'damn', 'credits', 'credit', 'creates', 'create', 'crazy', 'crafted', 'courtroom', 'costumes', 'cost', 'core', 'control', 'contrast', 'continuity', 'contains', 'contained', 'considering', 'computer', 'composition', 'complex', 'compelling', 'cole', 'clearly', 'church', 'christmas', 'choice', 'chilly', 'childhood', 'chick', 'cheesy', 'charming', 'charm', 'change', 'century', 'central', 'ceases', 'cause', 'case', 'cartoons', 'cardboard', 'cannot', 'canada', 'call', 'business', 'bunch', 'bullock', 'bring', 'brief', 'brian', 'bother', 'bold', 'blood', 'billy', 'betty', 'begin', 'began', 'became', 'beautifully', 'bear', 'basically', 'balance', 'badly', 'attempts', 'assistant', 'aspect', 'asleep', 'ask', 'aside', 'artist', 'appealing', 'appalling', 'anne', 'angles', 'angeles', 'angel', 'among', 'americans', 'american', 'alexander', 'air', 'ago', 'africa', 'afraid', 'advise', 'adorable', 'adaptation', 'act', 'achievement', 'accused', 'abysmal', 'above', '80s', '70s', '4', '30', '3', '25', '20th', '20', '110', '010', 'zombiez', 'zombiestudents', 'zombie', 'zillion', 'z', 'yun', 'youve', 'youtube', 'youthful', 'yourself', 'younger', 'youdo', 'yelps', 'yawn', 'yardley', 'wrotedirected', 'writers', 'wrap', 'wow', 'woven', 'wouldve', 'wouldbe', 'worthy', 'worthwhile', 'worthless', 'worry', 'worldweariness', 'worked', 'wordofmouth', 'woo', 'wong', 'wondered', 'woa', 'witticisms', 'within', 'win', 'wily', 'willie', 'william', 'wilkinsons', 'wild', 'wih', 'wifetobe', 'widmark', 'wide', 'whos', 'whoever', 'whites', 'whine', 'whenscamp', 'whenever', 'went', 'welsh', 'wellpaced', 'welldone', 'wellbalanced', 'weight', 'wedding', 'wed', 'website', 'weaving', 'weaker', 'wb', 'waylaid', 'wave', 'watsons', 'watson', 'wasting', 'washing', 'washed', 'warts', 'wartime', 'warning', 'warn', 'wants', 'wanting', 'walk', 'waitress', 'waiting', 'vulcan', 'voyage', 'vomited', 'volatile', 'voiceovers', 'voice', 'vocal', 'vivid', 'vivian', 'vitally', 'vision', 'virus', 'virtue', 'violinplaying', 'violence', 'villains', 'villain', 'views', 'viewers', 'view', 'video', 'victor', 'vibe', 'veteran', 'vessel', 'version', 'versatile', 'verbatim', 'verbal', 'ventura', 'vehicles', 'variation', 'vandiver', 'vampire', 'value', 'valentine', 'v', 'utter', 'ussr', 'using', 'user', 'ursula', 'uptight', 'upper', 'upas', 'unwatchable', 'unsatisfactory', 'unrestrained', 'unremarkable', 'unrecommended', 'unrealistic', 'unpredictability', 'unpleasant', 'unoriginal', 'unneeded', 'unnecessary', 'unmoving', 'unmitigated', 'unmatched', 'unlockable', 'unless', 'universe', 'universal', 'uniqueness', 'unique', 'union', 'unintentionally', 'unfortunate', 'unforgettable', 'unfaithful', 'unethical', 'unemployed', 'uneasy', 'underwater', 'undertone', 'understood', 'understatement', 'understanding', 'underrated', 'underlines', 'underbite', 'underappreciated', 'underacting', 'unconditional', 'uncalled', 'unbearably', 'unbearable', 'unaccompanied', 'um', 'ultracheap', 'uhura', 'ugly', 'ugliest', 'ue', 'typical', 'tying', 'twists', 'twirling', 'tvnever', 'turkey', 'tuneful', 'tsunami', 'trysts', 'truth', 'trumpeter', 'trumbull', 'truck', 'trouble', 'trooper', 'trond', 'triumphed', 'trip', 'trinity', 'tries', 'tremendous', 'trek', 'treatments', 'treat', 'treasure', 'treachery', 'trashy', 'trap', 'translating', 'translate', 'transfers', 'transcend', 'tranquillity', 'trainroller', 'trailer', 'traffic', 'traditional', 'tract', 'track', 'townsend', 'towers', 'tough', 'touches', 'touch', 'total', 'tortured', 'tops', 'toons', 'tony', 'tons', 'tonight', 'tongue', 'tone', 'tomorrow', 'tolerate', 'tolerable', 'todays', 'titta', 'title', 'tired', 'tiny', 'timing', 'timewaster', 'timers', 'timely', 'timeless', 'tightly', 'tickets', 'ticker', 'thus', 'thunderbirds', 'thumper', 'thug', 'throwback', 'thrillers', 'thrillerhorror', 'threshold', 'thread', 'thousand', 'thoughtsgabriels', 'thoughts', 'thoughtprovoking', 'thorsen', 'thomerson', 'thiswhen', 'thick', 'therapy', 'themeat', 'theatrical', 'theatres', 'theatre', 'thatsucked', 'thanks', 'th', 'terror', 'terminology', 'tensions', 'tender', 'temperaments', 'telly', 'television', 'telephone', 'teeth', 'teenagers', 'teen', 'tedium', 'teddy', 'technically', 'tears', 'tear', 'team', 'teaches', 'teacher', 'taylors', 'taylor', 'taxidermists', 'taste', 'task', 'tardis', 'tanks', 'talents', 'taken', 'taelons', 'tacky', 'system', 'syrupy', 'sympathetic', 'sydney', 'swords', 'switched', 'sweet', 'sweep', 'swamp', 'sven', 'suspension', 'survivors', 'surroundings', 'surprises', 'surprised', 'surface', 'surf', 'surely', 'supporting', 'supernatural', 'superlative', 'superintelligent', 'superficial', 'superbad', 'sundays', 'suited', 'suggests', 'suggest', 'suffered', 'suck', 'success', 'succeeds', 'succeeded', 'subverting', 'subversive', 'subtitles', 'subplots', 'subplot', 'subpar', 'sublimely', 'subjects', 'subject', 'subgenre', 'stupidity', 'stuff', 'study', 'student', 'stuart', 'struggle', 'structure', 'strokes', 'strives', 'string', 'strident', 'street', 'straw', 'stratus', 'stranger', 'strange', 'stowe', 'storytellinga', 'storm', 'stoic', 'stockings', 'stocking', 'stinker', 'stick', 'stewart', 'stereotypically', 'stephen', 'steele', 'steamboat', 'stealing', 'stayed', 'stateoftheart', 'starring', 'starlet', 'stanwycks', 'standout', 'stagy', 'stagey', 'stable', 'squibs', 'spy', 'spot', 'spoiled', 'spock', 'splendid', 'spiffy', 'sphere', 'spew', 'spend', 'specialtoo', 'speaking', 'span', 'spacey', 'spacek', 'southern', 'sour', 'sounds', 'sounded', 'sorry', 'sorrentino', 'sophisticated', 'soon', 'solidifying', 'sole', 'soldiers', 'social', 'sobering', 'sobaditsmemorable', 'sobaditsgood', 'soap', 'snow', 'snider', 'smoothly', 'smith', 'smiling', 'smells', 'smack', 'slurs', 'slowmoving', 'slowmotion', 'sloppy', 'slimy', 'slightly', 'slideshow', 'slavic', 'slackers', 'skip', 'skilled', 'situations', 'sits', 'sites', 'site', 'sitcoms', 'sit', 'sister', 'sinking', 'sink', 'sinister', 'sing', 'sincere', 'simplifying', 'simmering', 'silly', 'sign', 'sidelined', 'side', 'sibling', 'shutdown', 'showthese', 'showcasing', 'shortlist', 'shooting', 'shocking', 'shirley', 'shined', 'shes', 'shepards', 'shenanigans', 'shelves', 'shell', 'shelf', 'sheer', 'shattered', 'shatner', 'sharply', 'sharing', 'shameful', 'shallow', 'shakespears', 'sexobsessed', 'seuss', 'settings', 'served', 'sequences', 'sequels', 'sequel', 'seperate', 'sensitivities', 'sensibility', 'senior', 'semi', 'sells', 'selfsacrifice', 'selfrespecting', 'selfpreservation', 'selfdiscovery', 'self', 'selections', 'seeing\\x85', 'secondly', 'secondary', 'seat', 'sean', 'seamlessly', 'seamless', 'sculpture', 'scripts', 'scripting', 'scripted', 'scrimm', 'screenplay', 'screenjames', 'screened', 'screamy', 'scream', 'scot', 'scifis', 'scientist', 'science', 'sci', 'schultz', 'schoolers', 'school', 'schizophrenic', 'schilling', 'scares', 'scaredand', 'scare', 'says', 'savor', 'save', 'savalas', 'sat', 'sarcophage', 'sappiest', 'sample', 'sam', 'salesman', 'sad', 'sack', 'sabotages', 's', 'ryans', 'ryan', 'rumbles', 'rubin', 'rubbish', 'rpger', 'rpg', 'row', 'routine', 'round', 'rough', 'roths', 'roosevelts', 'romanticcharminghilariousand', 'rolls', 'roeg', 'rocks', 'rocked', 'rochonwas', 'robotic', 'road', 'riz', 'riveted', 'rivalry', 'rita', 'rise', 'rips', 'riot', 'ridiculousness', 'rickman', 'rices', 'reviews', 'reviewers', 'reversestereotypes', 'revere', 'revenge', 'retreat', 'retarded', 'resume', 'results', 'restrained', 'resounding', 'rescue', 'require', 'represents', 'reporter', 'repertory', 'repeats', 'repeating', 'repeated', 'repair', 'renowned', 'rendition', 'rendering', 'removing', 'reminded', 'remarkable', 'relying', 'relief', 'release', 'relaxing', 'relatively', 'relationship', 'relation', 'related', 'relate', 'rejection', 'regrettably', 'regrettable', 'regardless', 'refreshing', 'reflected', 'reenactments', 'redeemed', 'recurring', 'recover', 'reconciliation', 'receive', 'reasons', 'reasonable', 'realized', 'realize', 'realised', 'readers', 'raw', 'raver', 'rated', 'rare', 'range', 'random', 'raging', 'radiant', 'r', 'québec', 'quiet', 'quicker', 'quick', 'questioning', 'qualities', 'quaid', 'pyromaniac', 'puzzlesolving', 'purity', 'puppet', 'punishment', 'punish', 'punches', 'punched', 'pulls', 'pulling', 'public', 'psychotic', 'pseudosatanic', 'ps', 'provokes', 'provided', 'proudly', 'properly', 'propaganda', 'prone', 'prompted', 'promote', 'progresses', 'professor', 'professionals', 'product', 'producers', 'producer', 'produce', 'problems\\x97the', 'primary', 'primal', 'pretext', 'president', 'prepared', 'prelude', 'prejudice', 'predict', 'precisely', 'prays', 'practically', 'practical', 'powerhouse', 'powerful', 'power', 'potted', 'postproduction', 'positive', 'portrayed', 'portrayals', 'popcorn', 'politics', 'politically', 'political', 'poler', 'poised', 'pointillistic', 'poignant', 'poets', 'pm', 'plug', 'plmer', 'pledge', 'pleaser', 'pleasant', 'players', 'plants', 'planned', 'plane', 'pitch', 'pillow', 'pile', 'pied', 'picked', 'physical', 'phrase', 'photographycinematography', 'photograph', 'phony', 'philippa', 'phenomenal', 'phantasm', 'pgrated', 'pg', 'personally', 'personalities', 'person', 'perplexing', 'perfected', 'perabo', 'pedestal', 'peculiarity', 'pearls', 'peaking', 'pay', 'patriotism', 'patent', 'passion', 'passed', 'partaking', 'parker', 'park', 'paper', 'pap', 'paolo', 'pans', 'pandering', 'palance', 'pair', 'painted', 'paint', 'painfully', 'pack', 'pace', 'oyvey', 'owns', 'owls', 'owed', 'overwrought', 'overt', 'overdue', 'overcome', 'outward', 'outside', 'outlets', 'outlandish', 'outit', 'outhe', 'ought', 'otherwise', 'others', 'ortolani', 'origins', 'originality', 'oriented', 'ordeal', 'opinion', 'operas', 'open', 'onscreen', 'onedimensional', 'once', 'omit', 'olivia', 'ole', 'oldfashioned', 'older', 'olde', 'okay', 'ohsomature', 'offer', 'offend', 'oconnor', 'occurs', 'occur', 'obliged', 'nutbag', 'nut', 'nurse', 'nuns', 'nun', 'numbers', 'number', 'novella', 'notch', 'nostalgia', 'northern', 'normally', 'nor', 'nonsequel', 'nonresearched', 'nonlinear', 'nonexistent', 'nonetheless', 'noncliche', 'noircrimedrama', 'noir', 'noble', 'nine', 'nimoy', 'nicolas', 'nevsky', 'nevertheless', 'network', 'netflix', 'net', 'nervous', 'nerves', 'neighbourgirl', 'negulesco', 'needlessly', 'necklace', 'nearly', 'nc17', 'naughty', 'native', 'nationalities', 'national', 'nasty', 'narration', 'nakedbilly', 'n', 'mystifying', 'musthave', 'musicincluding', 'musician', 'murky', 'murdering', 'murder', 'muppets', 'muddled', 'mst3k', 'ms', 'moviemaking', 'movieits', 'movieit', 'moviegoing', 'moves', 'movements', 'moved', 'move', 'mouth', 'mountain', 'motivations', 'morons', 'monumental', 'monstrous', 'monster', 'monotonous', 'monolog', 'monica', 'momentum', 'mollusk', 'modest', 'miyazaki', 'mistakes', 'miss', 'misplace', 'miserably', 'miserable', 'mirrormask', 'minor', 'miniseries', 'mini', 'miners', 'mindblowing', 'mindbendingly', 'mighty', 'middleaged', 'microsoft', 'mickeys', 'michael', 'meteorite', 'messages', 'mesmerising', 'merit', 'meredith', 'menacing', 'menace', 'memorized', 'members', 'melville', 'melodrama', 'meld', 'medical', 'meant', 'meanings', 'meanders', 'meagre', 'mclaglen', 'mchattie', 'matthews', 'matrix', 'masculinity', 'masculine', 'marriage', 'marred', 'marion', 'marine', 'march', 'marbles', 'mansonites', 'manna', 'manages', 'managed', 'malta', 'males', 'malebonding', 'male', 'makers', 'major', 'mainly', 'magnificent', 'm', 'lyrics', 'luvs', 'lust', 'lugosi', 'lucio', 'loyalty', 'lower', 'lowbudget', 'loves', 'lovable', 'loosely', 'loose', 'longer', 'london', 'logic', 'loewenhielms', 'locations', 'local', 'livingworking', 'lived', 'littered', 'list', 'lino', 'linda', 'limited', 'limitations', 'lilt', 'lilli', 'lifetime', 'lifeoh', 'lifemy', 'lieutenant', 'lies', 'lie', 'lid', 'lewis', 'letting', 'lestat', 'lesserknown', 'lesser', 'leni', 'legendary', 'legal', 'leeand', 'leaving', 'leap', 'leading', 'layers', 'laughs', 'laughedkids', 'latterday', 'latin', 'latifas', 'latest', 'later', 'late', 'latched', 'lasting', 'lassie', 'laselva', 'largely', 'landscapes', 'lance', 'lady', 'ladies', 'lack', 'labute', 'la', 'kudos', 'kristoffersen', 'kris', 'koteasjack', 'knows', 'known', 'knocked', 'knightley', 'kitchy', 'kirk', 'killings', 'kill', 'kieslowski', 'kidnapped', 'kevin', 'kept', 'keith', 'keira', 'kathy', 'kanalys', 'jutland', 'justice', 'junk', 'julian', 'judo', 'judith', 'judging', 'judge', 'juano', 'joyces', 'jones', 'jokes', 'joins', 'jim', 'jet', 'jessice', 'jessica', 'jerry', 'jennifer', 'jealousy', 'jay', 'jason', 'japanese', 'jaclyn', 'itbuy', 'is\\x85was', 'issue', 'ishioka', 'irritating', 'ironside', 'irons', 'ironically', 'ireland', 'involving', 'involves', 'inventive', 'intrigued', 'intoning', 'interview', 'interpretations', 'interim', 'interacting', 'intentions', 'intensity', 'intense', 'integration', 'integral', 'intangibles', 'insulin', 'instruments', 'instant', 'inspiring', 'inspiration', 'insomniacs', 'insipid', 'insincere', 'inside', 'insane', 'innocence', 'initially', 'inexplicable', 'inexperience', 'ineptly', 'indulgent', 'indoor', 'individual', 'indie', 'indictment', 'indication', 'indescribably', 'incorrectness', 'inconsistencies', 'incomprehensible', 'includes', 'incendiary', 'inappropriate', 'impulse', 'improvisation', 'improvement', 'improved', 'impression', 'impossible', 'imperial', 'impact', 'imitation', 'imdb', 'imagine', 'iffy', 'ie', 'idyllic', 'idiotsavant', 'idiotic', 'idiot', 'identifies', 'identified', 'idealogical', 'hypocrisy', 'hype', 'huston', 'hurt', 'humor', 'hummh', 'humans', 'humanity', 'hugo', 'howell', 'howe', 'howdy', 'houses', 'hot', 'hosting', 'horse', 'horrorsuspense', 'horrified', 'horrid', 'horrendously', 'horrendous', 'hopeless', 'hopefully', 'hoot', 'honest', 'homework', 'hollander', 'holds', 'holding', 'hold', 'hoffmans', 'hockey', 'ho', 'hitchcocks', 'hip', 'himself', 'hilt', 'highlights', 'highest', 'higher', 'hide', 'heroism', 'heroine', 'heroes', 'hero', 'hernandez', 'heres', 'hendrikson', 'helping', 'help', 'helms', 'hellish', 'helen', 'heist', 'heche', 'heartwarming', 'hearts', 'heads', 'headoverheels', 'hbo', 'hayworth', 'hayao', 'hay', 'havilland', 'hatred', 'hasnt', 'harris', 'happy', 'happiness', 'hanks', 'hankies', 'hang', 'handles', 'handle', 'handdrawn', 'hand', 'ham', 'halfway', 'hairsplitting', 'hair', 'haggis', 'hadnt', 'gung', 'guilt', 'guests', 'guards', 'groundbreaking', 'gross', 'groove', 'grimes', 'grim', 'grew', 'greenstreet', 'greatness', 'greatespecially', 'grates', 'grasp', 'granted', 'grainy', 'gradually', 'grade', 'government', 'gotten', 'gotta', 'goth', 'gosh', 'gorman', 'goremeister', 'gore', 'gone', 'gods', 'goalies', 'gloriously', 'glassesthe', 'giving', 'girolamo', 'girls', 'girlfriendboyfriend', 'girlfriend', 'giovanni', 'gifted', 'gibberish', 'ghibili', 'getting', 'gere', 'gerardo', 'george', 'gently', 'genre', 'generic', 'generates', 'general', 'geek', 'gay', 'gaudi', 'gas', 'garfield', 'garbo', 'garage', 'gallon', 'galley', 'gake', 'gain', 'gadget', 'g', 'further', 'funnyall', 'funniest', 'fundamental', 'function', 'fumbling', 'fully', 'fulfilling', 'frustration', 'frost', 'frontier', 'friendship', 'freshness', 'freeman', 'francis', 'frances', 'foxx', 'foxs', 'fox', 'four', 'forwarded', 'forth', 'fort', 'former', 'format', 'forgotten', 'forgot', 'forgetting', 'forgettable', 'forever', 'foreigner', 'foreign', 'ford', 'forced', 'force', 'football', 'foolish', 'follows', 'fodder', 'flying', 'flowed', 'florida', 'flicks', 'fleshed', 'flaw', 'flashbacks', 'flaming', 'flakes', 'flag', 'fisted', 'fishnet', 'fish', 'fire', 'finished', 'fingernails', 'finest', 'finds', 'financial', 'finale', 'filmsomething', 'filmography', 'filmmostly', 'filmiing', 'fill', 'fifties', 'fields', 'fi', 'fest', 'ferry', 'females', 'fellowes', 'feisty', 'feet', 'feelings', 'feelgood', 'feature', 'favorite', 'fausa', 'faultless', 'faster', 'fascination', 'fascinated', 'fare', 'farce', 'fantasy', 'fanciful', 'famous', 'familys', 'famed', 'fame', 'falwell', 'falsely', 'falls', 'falling', 'faithful', 'fairly', 'fair', 'failed', 'factory', 'factbased', 'facing', 'facial', 'faces', 'fabulous', 'eyepleasing', 'eye', 'extraordinary', 'extraneous', 'exteriors', 'extant', 'expression', 'explosion', 'explorations', 'exploit', 'explains', 'expert', 'experiences', 'expecting', 'expected', 'expectations', 'expansive', 'existential', 'exemplars', 'executed', 'excuses', 'excuse', 'excruciatingly', 'exciting', 'exchange', 'excessively', 'excerpts', 'exceptionally', 'except', 'excellentangel', 'exaggerating', 'evokes', 'evinced', 'evidently', 'everywhere', 'everyones', 'everybody', 'events', 'evaluate', 'etcits', 'estevezs', 'estevez', 'estate', 'established', 'establish', 'essence', 'escapism', 'escalating', 'errors', 'equivalent', 'episodes', 'entrance', 'entertained', 'enterprise', 'enter', 'enjoyment', 'enhanced', 'english', 'energetic', 'ends', 'endlessly', 'ended', 'endearing', 'endall', 'enchanting', 'en', 'emptiness', 'empowerment', 'emperor', 'emotionally', 'emotion', 'emoting', 'emerge', 'embassy', 'embarrassed', 'elsewhere', 'elses', 'eloquently', 'elias', 'elegant', 'elderly', 'elaborately', 'eiko', 'eighth', 'egotism', 'efforts', 'effort', 'effect', 'edward', 'educational', 'edition', 'eccleston', 'ebola', 'ebay', 'eating', 'dysfunctionhe', 'dwight', 'dustin', 'duris', 'duper', 'dumbest', 'duethe', 'dry', 'dropped', 'drooling', 'drifting', 'drift', 'dribble', 'dreary', 'dream', 'drawings', 'drag', 'draft', 'dracula', 'dr', 'dozen', 'downs', 'doubt', 'dosent', 'doomed', 'donlevy', 'don', 'dominated', 'dollars', 'dodge', 'diving', 'distressed', 'distract', 'distorted', 'distinction', 'distant', 'disparate', 'disneypixars', 'disgusting', 'disgrace', 'discomfort', 'disbelief', 'directtovideo', 'dignity', 'difference', 'dickens', 'diaper', 'dialogs', 'diabetic', 'di', 'developments', 'development', 'develop', 'details', 'detailing', 'destroy', 'despised', 'desperation', 'desperately', 'designer', 'designed', 'design', 'desert', 'describes', 'derivative', 'depicted', 'depends', 'depending', 'dependant', 'delivered', 'deliver', 'delights', 'delightful', 'delete', 'defined', 'defensemen', 'deep', 'dee', 'decisions', 'decipher', 'decidely', 'debut', 'debits', 'debbie', 'debated', 'dealt', 'deal', 'deadpan', 'deadly', 'days', 'daughters', 'darren', 'danceall', 'damian', 'dads', 'cutting', 'cuts', 'cutouts', 'cutie', 'cutest', 'cutebut', 'cute', 'custer', 'curtain', 'cultures', 'culture', 'cry', 'cruises', 'cruel', 'crowes', 'crowdpleaserthis', 'crowd', 'cross', 'crocs', 'crocdodile', 'critical', 'critic', 'crisp', 'crew', 'credible', 'creature', 'creativity', 'creative', 'crayons', 'crayonpencil', 'crashed', 'crash', 'crackles', 'cox', 'cowardice', 'court', 'couple', 'cotton', 'costars', 'correct', 'corny', 'corn', 'cords', 'coppolas', 'coppola', 'convoluted', 'convince', 'convey', 'convention', 'controversy', 'contrived', 'contributory', 'contributing', 'contract', 'continuously', 'continue', 'continuation', 'continually', 'content', 'containing', 'constructed', 'constantine', 'constant', 'consolations', 'consistent', 'considers', 'considered', 'considerable', 'consequences', 'conrad', 'connerys', 'connery', 'connections', 'confusing', 'confuses', 'confirm', 'configuration', 'confidence', 'condescends', 'concert', 'concerns', 'concerning', 'conceptually', 'conception', 'concentrate', 'compromise', 'comprehensible', 'composed', 'complexity', 'completed', 'competent', 'companys', 'community', 'commercial', 'comments', 'commented', 'commentary', 'comment', 'commands', 'comical', 'comforting', 'comfortable', 'comedic', 'columbo', 'colours', 'colorful', 'colored', 'collective', 'collect', 'cold', 'coherent', 'coaster', 'coastal', 'coal', 'coach', 'club', 'clothes', 'closeups', 'closeup', 'closed', 'close', 'climax', 'cliff', 'clients', 'clear', 'classical', 'class', 'circumstances', 'cinematographyif', 'cinematographers', 'cinematic', 'christopher', 'chow', 'chosen', 'choked', 'choices', 'chodorov', 'chimplike', 'chills', 'childrens', 'cheesiness', 'cheerless', 'cheerfull', 'cheekbones', 'cheek', 'check', 'cheaply', 'chasing', 'chase', 'charlie', 'charismatic', 'charismafree', 'charisma', 'characterisation', 'characterage', 'channel', 'changing', 'changes', 'chanceit', 'chance', 'challenges', 'chalkboard', 'cgi', 'cg', 'certain', 'centers', 'celluloid', 'celebrity', 'celebration', 'caught', 'catchy', 'cat', 'casted', 'cases', 'cars', 'carry', 'carries', 'carrell', 'carol', 'cardellini', 'card', 'car', 'captures', 'captured', 'captain', 'cando', 'candle', 'candace', 'cancan', 'campy', 'camp', 'cameo', 'calls', 'california', 'cailles', 'cable', 'buy', 'burtons', 'bully', 'built', 'buildup', 'buildings', 'builders', 'buffet', 'buffalo', 'buddy', 'brutal', 'brother', 'brooding', 'broke', 'broad', 'brings', 'brilliantly', 'bright', 'brigand', 'brevity', 'breeders', 'brat', 'brainsucking', 'boyle', 'box', 'bothersome', 'boss', 'borrowed', 'boringpointless', 'borders', 'borderlines', 'bordered', 'bop', 'boost', 'boogeyman', 'boobs', 'bonuses', 'bonus', 'bond', 'bombardments', 'boiling', 'bohemian', 'body', 'bob', 'boasts', 'blush', 'bluegreenscreen', 'blown', 'blist', 'blew', 'blatant', 'blare', 'blandly', 'bland', 'blake', 'blah', 'blacks', 'bitchy', 'bipolarity', 'biographical', 'biggest', 'bigbudget', 'bible', 'beware', 'bertolucci', 'bergens', 'bennett', 'ben', 'belowpar', 'below', 'belmondo', 'belly', 'bellucci', 'bell', 'believed', 'bela', 'behold', 'behind', 'beforei', 'becomes', 'bechard', 'beall', 'baxendale', 'bates', 'bat', 'basic', 'barren', 'barney', 'barking', 'barcelona', 'band', 'balls', 'ballet', 'ball', 'balanced', 'bakery', 'baileys', 'badwellits', 'badass', 'backed', 'backdrop', 'babysitting', 'baby', 'babie', 'babbling', 'baaaaaad', 'b', 'aye', 'awkwardly', 'awards', 'awarded', 'award', 'avoided', 'aversion', 'author', 'austere', 'austens', 'aurvåg', 'audio', 'attractive', 'attempting', 'attempted', 'atrocity', 'atrocious', 'atmosphere', 'astronauts', 'astronaut', 'astonishingly', 'assaulted', 'assante', 'ass', 'aspects', 'arts', 'artless', 'artistic', 'artiness', 'articulated', 'array', 'armand', 'armageddon', 'argued', 'apt', 'appropriate', 'applause', 'applauded', 'appears', 'apart', 'anyway', 'anythinga', 'antithesis', 'anthony', 'anniversary', 'annes', 'ann', 'anita', 'animated', 'animals', 'angus', 'anguish', 'angry', 'angle', 'angelina', 'angela', 'andor', 'anatomist', 'amusing', 'americas', 'america', 'amazingstylized', 'amazingly', 'amazed', 'amaze', 'amateurish', 'alongside', 'allstar', 'allowing', 'allow', 'allison', 'alike', 'alert', 'akin', 'akasha', 'aired', 'aimless', 'agreed', 'agree', 'ages', 'against', 'afternoon', 'affleck', 'affected', 'aesthetically', 'adventure', 'adrift', 'adorablethe', 'adorablehis', 'admitted', 'admiration', 'admins', 'added', 'add', 'adams', 'actorsan', 'actions', 'actingwise', 'actingeven', 'ackerman', 'achille', 'accurately', 'accurate', 'accolades', 'acclaimed', 'accessible', 'accents', 'academy', 'abstruse', 'abroad', 'abandoned', 'aailiyah', '95', '910', '9', '8pm', '815pm', '810', '80', '8', '750', '70000', '5year', '54', '50', '5', '40', '20the', '2006', '2005', '1998', '1995', '1986', '1980s', '1973', '1971', '1949', '1948', '1947', '1928', '18th', '15', '12']\n",
            "13\n"
          ]
        }
      ]
    },
    {
      "cell_type": "code",
      "source": [
        "# now use it to process some text\n",
        "# get_vocabulary is used to get the lsit of all the words sorted with descending\n",
        "# number of times a word is repeated and to encode the input text according to the index\n",
        "input_text = [['good movie'], ['Mochen Yang']]\n",
        "vectorize_layer(input_text)"
      ],
      "metadata": {
        "id": "R8C-9SDepTe4",
        "colab": {
          "base_uri": "https://localhost:8080/"
        },
        "outputId": "417fa769-b57d-477c-a01b-a2a59ac3cb71"
      },
      "execution_count": 47,
      "outputs": [
        {
          "output_type": "execute_result",
          "data": {
            "text/plain": [
              "<tf.Tensor: shape=(2, 2), dtype=int64, numpy=\n",
              "array([[31, 13],\n",
              "       [ 1,  1]])>"
            ]
          },
          "metadata": {},
          "execution_count": 47
        }
      ]
    },
    {
      "cell_type": "markdown",
      "source": [
        "**Pre processing**"
      ],
      "metadata": {
        "id": "n95pxrq4u05G"
      }
    },
    {
      "cell_type": "code",
      "source": [
        "df_text = df_text.astype({'label': 'int32'})\n",
        "df_text.dtypes"
      ],
      "metadata": {
        "colab": {
          "base_uri": "https://localhost:8080/"
        },
        "id": "i5wB0p_RcX0-",
        "outputId": "cdb51271-7e4d-4422-b276-f9094cc2c5e3"
      },
      "execution_count": 48,
      "outputs": [
        {
          "output_type": "execute_result",
          "data": {
            "text/plain": [
              "text     object\n",
              "label     int32\n",
              "dtype: object"
            ]
          },
          "metadata": {},
          "execution_count": 48
        }
      ]
    },
    {
      "cell_type": "code",
      "source": [
        "X_train, X_test, y_train, y_test = train_test_split(df_text['text'], df_text['label'], test_size=0.20, random_state=42)\n",
        "\n",
        "print (X_train.shape)\n",
        "print (y_train.shape)\n",
        "print (X_test.shape)\n",
        "print (y_test.shape)\n"
      ],
      "metadata": {
        "colab": {
          "base_uri": "https://localhost:8080/"
        },
        "id": "HHdNS4X6ujvr",
        "outputId": "034c3ba6-4a6f-46c4-fff9-5d89b5006bee"
      },
      "execution_count": 49,
      "outputs": [
        {
          "output_type": "stream",
          "name": "stdout",
          "text": [
            "(800,)\n",
            "(800,)\n",
            "(200,)\n",
            "(200,)\n"
          ]
        }
      ]
    },
    {
      "cell_type": "markdown",
      "source": [
        "**RNN model**\n",
        "\n",
        "Now, let's actually build a basic RNN model, by stacking together the text processing layer, an embedding layer, and an RNN layer"
      ],
      "metadata": {
        "id": "j-e-isvMR_SU"
      }
    },
    {
      "cell_type": "code",
      "source": [
        "model_rnn = keras.Sequential()\n",
        "\n",
        "# Vectorize layer\n",
        "model_rnn.add(vectorize_layer)\n",
        "\n",
        "# Embedding layer\n",
        "model_rnn.add(keras.layers.Embedding(\n",
        "    input_dim = len(vectorize_layer.get_vocabulary()),\n",
        "    output_dim = 64,\n",
        "    mask_zero = True\n",
        "))\n",
        "\n",
        "# RNN layer\n",
        "model_rnn.add(keras.layers.SimpleRNN(128)) # see note below\n",
        "\n",
        "# Output layer\n",
        "model_rnn.add(keras.layers.Dense(1, activation = 'sigmoid'))"
      ],
      "metadata": {
        "id": "StXlcTFzMxUY"
      },
      "execution_count": 50,
      "outputs": []
    },
    {
      "cell_type": "code",
      "source": [
        "# configure training / optimization\n",
        "model_rnn.compile(loss = keras.losses.BinaryCrossentropy(),\n",
        "                  optimizer='adam',\n",
        "                  metrics=['accuracy'])"
      ],
      "metadata": {
        "id": "saN4nf7kMxb6"
      },
      "execution_count": 51,
      "outputs": []
    },
    {
      "cell_type": "code",
      "source": [
        "# training with 20% validation and 10 epochs.\n",
        "model_rnn.fit(x = X_train, y = y_train, validation_split = 0.2,\n",
        "              epochs=10, batch_size = 32)"
      ],
      "metadata": {
        "colab": {
          "base_uri": "https://localhost:8080/"
        },
        "id": "HZz0f0VGMxiq",
        "outputId": "3a724b60-ff53-4356-c2cf-3dd0f1b9d160"
      },
      "execution_count": 52,
      "outputs": [
        {
          "output_type": "stream",
          "name": "stdout",
          "text": [
            "Epoch 1/10\n",
            "20/20 [==============================] - 2s 36ms/step - loss: 0.7011 - accuracy: 0.5094 - val_loss: 0.6908 - val_accuracy: 0.5500\n",
            "Epoch 2/10\n",
            "20/20 [==============================] - 0s 23ms/step - loss: 0.5332 - accuracy: 0.8547 - val_loss: 0.7781 - val_accuracy: 0.5500\n",
            "Epoch 3/10\n",
            "20/20 [==============================] - 0s 23ms/step - loss: 0.2968 - accuracy: 0.9266 - val_loss: 1.0367 - val_accuracy: 0.5437\n",
            "Epoch 4/10\n",
            "20/20 [==============================] - 0s 24ms/step - loss: 0.1665 - accuracy: 0.9688 - val_loss: 1.1430 - val_accuracy: 0.5500\n",
            "Epoch 5/10\n",
            "20/20 [==============================] - 0s 22ms/step - loss: 0.1195 - accuracy: 0.9844 - val_loss: 1.0666 - val_accuracy: 0.5938\n",
            "Epoch 6/10\n",
            "20/20 [==============================] - 0s 25ms/step - loss: 0.1221 - accuracy: 0.9781 - val_loss: 0.9534 - val_accuracy: 0.6438\n",
            "Epoch 7/10\n",
            "20/20 [==============================] - 0s 24ms/step - loss: 0.0900 - accuracy: 0.9844 - val_loss: 1.2063 - val_accuracy: 0.5312\n",
            "Epoch 8/10\n",
            "20/20 [==============================] - 0s 24ms/step - loss: 0.1074 - accuracy: 0.9719 - val_loss: 1.1373 - val_accuracy: 0.5688\n",
            "Epoch 9/10\n",
            "20/20 [==============================] - 0s 23ms/step - loss: 0.0740 - accuracy: 0.9828 - val_loss: 1.1735 - val_accuracy: 0.6000\n",
            "Epoch 10/10\n",
            "20/20 [==============================] - 0s 23ms/step - loss: 0.0366 - accuracy: 0.9969 - val_loss: 1.0711 - val_accuracy: 0.6500\n"
          ]
        },
        {
          "output_type": "execute_result",
          "data": {
            "text/plain": [
              "<keras.callbacks.History at 0x7ff2091a6ad0>"
            ]
          },
          "metadata": {},
          "execution_count": 52
        }
      ]
    },
    {
      "cell_type": "code",
      "source": [
        "model_rnn.summary()"
      ],
      "metadata": {
        "colab": {
          "base_uri": "https://localhost:8080/"
        },
        "id": "aZc2sS7rUe3n",
        "outputId": "aa8044a9-76a1-41bf-f456-d536e7041878"
      },
      "execution_count": 53,
      "outputs": [
        {
          "output_type": "stream",
          "name": "stdout",
          "text": [
            "Model: \"sequential_4\"\n",
            "_________________________________________________________________\n",
            " Layer (type)                Output Shape              Param #   \n",
            "=================================================================\n",
            " text_vectorization_1 (TextV  (None, None)             0         \n",
            " ectorization)                                                   \n",
            "                                                                 \n",
            " embedding_4 (Embedding)     (None, None, 64)          203264    \n",
            "                                                                 \n",
            " simple_rnn_1 (SimpleRNN)    (None, 128)               24704     \n",
            "                                                                 \n",
            " dense_4 (Dense)             (None, 1)                 129       \n",
            "                                                                 \n",
            "=================================================================\n",
            "Total params: 228,097\n",
            "Trainable params: 228,097\n",
            "Non-trainable params: 0\n",
            "_________________________________________________________________\n"
          ]
        }
      ]
    },
    {
      "cell_type": "code",
      "source": [
        "# Lets use this RNN to make predictions on some sentences \n",
        "rnn_prediction = (model_rnn.predict(X_test)[:,0] >= 0.5).astype(bool)\n",
        "\n",
        "print(classification_report(y_test, rnn_prediction, labels=[1, 0]))"
      ],
      "metadata": {
        "colab": {
          "base_uri": "https://localhost:8080/"
        },
        "id": "Cw2BV9WtVHS3",
        "outputId": "ed6d3ebb-33e2-454c-e114-c541fd468149"
      },
      "execution_count": 54,
      "outputs": [
        {
          "output_type": "stream",
          "name": "stdout",
          "text": [
            "              precision    recall  f1-score   support\n",
            "\n",
            "           1       0.69      0.54      0.61       109\n",
            "           0       0.56      0.70      0.62        91\n",
            "\n",
            "    accuracy                           0.61       200\n",
            "   macro avg       0.62      0.62      0.61       200\n",
            "weighted avg       0.63      0.61      0.61       200\n",
            "\n"
          ]
        }
      ]
    },
    {
      "cell_type": "code",
      "source": [
        "a = (model_rnn.predict(X_test)[::,0])\n",
        "print (a.shape)\n",
        "print (y_test.shape)"
      ],
      "metadata": {
        "colab": {
          "base_uri": "https://localhost:8080/"
        },
        "id": "UJUQMgJZz-iE",
        "outputId": "c24aba59-0928-4035-d694-6546e28cc029"
      },
      "execution_count": 55,
      "outputs": [
        {
          "output_type": "stream",
          "name": "stdout",
          "text": [
            "(200,)\n",
            "(200,)\n"
          ]
        }
      ]
    },
    {
      "cell_type": "code",
      "source": [
        "y_test = y_test.reset_index(drop = True)"
      ],
      "metadata": {
        "id": "qyd32aIB9HfE"
      },
      "execution_count": 56,
      "outputs": []
    },
    {
      "cell_type": "code",
      "source": [
        "a = pd.Series(a)\n",
        "print ((a).dtype)\n",
        "df_output = pd.DataFrame ({'real_label': y_test , 'predict_prob': a})"
      ],
      "metadata": {
        "colab": {
          "base_uri": "https://localhost:8080/"
        },
        "id": "3FhHdq2u37_r",
        "outputId": "06892aa6-b45f-4e2d-d6dd-e4f0883df959"
      },
      "execution_count": 57,
      "outputs": [
        {
          "output_type": "stream",
          "name": "stdout",
          "text": [
            "float32\n"
          ]
        }
      ]
    },
    {
      "cell_type": "code",
      "source": [
        "#LR curves\n",
        "#skplt.metrics.plot_roc(df_output['real_label'], df_output['predict_prob'])\n",
        "\n",
        "# skplt.metrics.plot_cumulative_gain(y_test, model_rnn.predict(X_test))\n",
        "\n",
        "# skplt.metrics.plot_lift_curve(y_test, model_rnn.predict(X_test))"
      ],
      "metadata": {
        "id": "acR5DubpxxqX"
      },
      "execution_count": 58,
      "outputs": []
    },
    {
      "cell_type": "markdown",
      "source": [
        "LSTM network\n",
        "\n",
        "Lets now try a LSTM network "
      ],
      "metadata": {
        "id": "EiUhlhSmqAv8"
      }
    },
    {
      "cell_type": "code",
      "source": [
        "model_lstm = keras.Sequential()\n",
        "\n",
        "model_lstm.add(vectorize_layer)\n",
        "\n",
        "model_lstm.add(keras.layers.Embedding(\n",
        "    input_dim = len(vectorize_layer.get_vocabulary()),\n",
        "    output_dim = 64,\n",
        "    mask_zero = True\n",
        "))\n",
        "\n",
        "model_lstm.add(keras.layers.LSTM(128))\n",
        "\n",
        "model_lstm.add(keras.layers.Dense(1, activation = 'sigmoid'))\n",
        "\n"
      ],
      "metadata": {
        "id": "9-l4FUjqf-Nb"
      },
      "execution_count": 59,
      "outputs": []
    },
    {
      "cell_type": "code",
      "source": [
        "# configure training / optimization\n",
        "model_lstm.compile(loss = keras.losses.BinaryCrossentropy(),\n",
        "                   optimizer='adam',\n",
        "                   metrics=['accuracy'])"
      ],
      "metadata": {
        "id": "gAB1OidAf_Yg"
      },
      "execution_count": 60,
      "outputs": []
    },
    {
      "cell_type": "code",
      "source": [
        "# training with 20% validation and 10 epochs.\n",
        "model_lstm.fit(x = X_train, y = y_train, validation_split = 0.2,\n",
        "               epochs=10, batch_size = 32)"
      ],
      "metadata": {
        "colab": {
          "base_uri": "https://localhost:8080/"
        },
        "id": "Roi0Cn4mf_qY",
        "outputId": "c89d82cf-f67b-4d7b-da0c-d65d808748e5"
      },
      "execution_count": 61,
      "outputs": [
        {
          "output_type": "stream",
          "name": "stdout",
          "text": [
            "Epoch 1/10\n",
            "20/20 [==============================] - 5s 115ms/step - loss: 0.6928 - accuracy: 0.5266 - val_loss: 0.6870 - val_accuracy: 0.5688\n",
            "Epoch 2/10\n",
            "20/20 [==============================] - 1s 56ms/step - loss: 0.6353 - accuracy: 0.7828 - val_loss: 0.5744 - val_accuracy: 0.7563\n",
            "Epoch 3/10\n",
            "20/20 [==============================] - 1s 53ms/step - loss: 0.4086 - accuracy: 0.8703 - val_loss: 0.6457 - val_accuracy: 0.7063\n",
            "Epoch 4/10\n",
            "20/20 [==============================] - 1s 52ms/step - loss: 0.2444 - accuracy: 0.9453 - val_loss: 0.5651 - val_accuracy: 0.7812\n",
            "Epoch 5/10\n",
            "20/20 [==============================] - 1s 52ms/step - loss: 0.1535 - accuracy: 0.9656 - val_loss: 0.5024 - val_accuracy: 0.7812\n",
            "Epoch 6/10\n",
            "20/20 [==============================] - 1s 54ms/step - loss: 0.0845 - accuracy: 0.9891 - val_loss: 0.6880 - val_accuracy: 0.7875\n",
            "Epoch 7/10\n",
            "20/20 [==============================] - 1s 52ms/step - loss: 0.0930 - accuracy: 0.9781 - val_loss: 0.5710 - val_accuracy: 0.7875\n",
            "Epoch 8/10\n",
            "20/20 [==============================] - 1s 50ms/step - loss: 0.0627 - accuracy: 0.9906 - val_loss: 0.6824 - val_accuracy: 0.8062\n",
            "Epoch 9/10\n",
            "20/20 [==============================] - 1s 52ms/step - loss: 0.0372 - accuracy: 0.9953 - val_loss: 0.7747 - val_accuracy: 0.8313\n",
            "Epoch 10/10\n",
            "20/20 [==============================] - 1s 52ms/step - loss: 0.0280 - accuracy: 0.9969 - val_loss: 0.8527 - val_accuracy: 0.8188\n"
          ]
        },
        {
          "output_type": "execute_result",
          "data": {
            "text/plain": [
              "<keras.callbacks.History at 0x7ff20a03af50>"
            ]
          },
          "metadata": {},
          "execution_count": 61
        }
      ]
    },
    {
      "cell_type": "code",
      "source": [
        "# Lets use this RNN to make predictions on some sentences \n",
        "lstm_prediction = (model_lstm.predict(X_test)[:,0] >= 0.5).astype(bool)\n",
        "\n",
        "print(classification_report(y_test, lstm_prediction, labels=[1, 0]))"
      ],
      "metadata": {
        "colab": {
          "base_uri": "https://localhost:8080/"
        },
        "id": "hKD2z_9jf_3F",
        "outputId": "b8300608-f5b1-47c2-8a16-5dd7a338ae91"
      },
      "execution_count": 62,
      "outputs": [
        {
          "output_type": "stream",
          "name": "stdout",
          "text": [
            "              precision    recall  f1-score   support\n",
            "\n",
            "           1       0.74      0.80      0.77       109\n",
            "           0       0.73      0.66      0.69        91\n",
            "\n",
            "    accuracy                           0.73       200\n",
            "   macro avg       0.73      0.73      0.73       200\n",
            "weighted avg       0.73      0.73      0.73       200\n",
            "\n"
          ]
        }
      ]
    },
    {
      "cell_type": "code",
      "source": [],
      "metadata": {
        "id": "BFDBLvaIgABM"
      },
      "execution_count": 62,
      "outputs": []
    },
    {
      "cell_type": "markdown",
      "source": [
        "Lets build GRU "
      ],
      "metadata": {
        "id": "zBeuI8Z4sczv"
      }
    },
    {
      "cell_type": "code",
      "source": [
        "model_gru = keras.Sequential()\n",
        "\n",
        "model_gru.add(vectorize_layer)\n",
        "\n",
        "model_gru.add(keras.layers.Embedding(\n",
        "    input_dim = len(vectorize_layer.get_vocabulary()),\n",
        "    output_dim = 64,\n",
        "    mask_zero = True\n",
        "))\n",
        "\n",
        "model_gru.add(keras.layers.GRU(128))\n",
        "\n",
        "model_gru.add(keras.layers.Dense(1, activation = 'sigmoid'))"
      ],
      "metadata": {
        "id": "yhbVssStgALz"
      },
      "execution_count": 63,
      "outputs": []
    },
    {
      "cell_type": "code",
      "source": [
        "# configure training / optimization\n",
        "model_gru.compile(loss = keras.losses.BinaryCrossentropy(),\n",
        "                  optimizer='adam',\n",
        "                  metrics=['accuracy'])"
      ],
      "metadata": {
        "id": "RVwW-Qd8gAV1"
      },
      "execution_count": 64,
      "outputs": []
    },
    {
      "cell_type": "code",
      "source": [
        "# training with 20% validation and 10 epochs.\n",
        "model_gru.fit(x = X_train, y = y_train, validation_split = 0.2,\n",
        "              epochs=10, batch_size = 32)"
      ],
      "metadata": {
        "colab": {
          "base_uri": "https://localhost:8080/"
        },
        "id": "LomuF8YkgAgD",
        "outputId": "c121488b-d0ab-40d0-c982-3f78a672128e"
      },
      "execution_count": 65,
      "outputs": [
        {
          "output_type": "stream",
          "name": "stdout",
          "text": [
            "Epoch 1/10\n",
            "20/20 [==============================] - 6s 95ms/step - loss: 0.6925 - accuracy: 0.5234 - val_loss: 0.6881 - val_accuracy: 0.5625\n",
            "Epoch 2/10\n",
            "20/20 [==============================] - 1s 40ms/step - loss: 0.6455 - accuracy: 0.7344 - val_loss: 0.6175 - val_accuracy: 0.6750\n",
            "Epoch 3/10\n",
            "20/20 [==============================] - 1s 40ms/step - loss: 0.4388 - accuracy: 0.8703 - val_loss: 0.5402 - val_accuracy: 0.7563\n",
            "Epoch 4/10\n",
            "20/20 [==============================] - 1s 41ms/step - loss: 0.2051 - accuracy: 0.9547 - val_loss: 0.5419 - val_accuracy: 0.7875\n",
            "Epoch 5/10\n",
            "20/20 [==============================] - 1s 42ms/step - loss: 0.0872 - accuracy: 0.9828 - val_loss: 0.6817 - val_accuracy: 0.8000\n",
            "Epoch 6/10\n",
            "20/20 [==============================] - 1s 42ms/step - loss: 0.0444 - accuracy: 0.9953 - val_loss: 0.6911 - val_accuracy: 0.8000\n",
            "Epoch 7/10\n",
            "20/20 [==============================] - 1s 40ms/step - loss: 0.0258 - accuracy: 0.9969 - val_loss: 0.8537 - val_accuracy: 0.8000\n",
            "Epoch 8/10\n",
            "20/20 [==============================] - 1s 41ms/step - loss: 0.0158 - accuracy: 1.0000 - val_loss: 0.8767 - val_accuracy: 0.8062\n",
            "Epoch 9/10\n",
            "20/20 [==============================] - 1s 39ms/step - loss: 0.0105 - accuracy: 1.0000 - val_loss: 1.0513 - val_accuracy: 0.8125\n",
            "Epoch 10/10\n",
            "20/20 [==============================] - 1s 41ms/step - loss: 0.0073 - accuracy: 1.0000 - val_loss: 1.1134 - val_accuracy: 0.8125\n"
          ]
        },
        {
          "output_type": "execute_result",
          "data": {
            "text/plain": [
              "<keras.callbacks.History at 0x7ff205523790>"
            ]
          },
          "metadata": {},
          "execution_count": 65
        }
      ]
    },
    {
      "cell_type": "code",
      "source": [
        "# Lets use this RNN to make predictions on some sentences \n",
        "lstm_prediction = (model_lstm.predict(X_test)[:,0] >= 0.5).astype(bool)\n",
        "\n",
        "print(classification_report(y_test, lstm_prediction, labels=[1, 0]))"
      ],
      "metadata": {
        "colab": {
          "base_uri": "https://localhost:8080/"
        },
        "id": "kraAAzASs26k",
        "outputId": "30781f08-1344-41c8-9c23-e46aa28c0954"
      },
      "execution_count": 66,
      "outputs": [
        {
          "output_type": "stream",
          "name": "stdout",
          "text": [
            "              precision    recall  f1-score   support\n",
            "\n",
            "           1       0.74      0.80      0.77       109\n",
            "           0       0.73      0.66      0.69        91\n",
            "\n",
            "    accuracy                           0.73       200\n",
            "   macro avg       0.73      0.73      0.73       200\n",
            "weighted avg       0.73      0.73      0.73       200\n",
            "\n"
          ]
        }
      ]
    },
    {
      "cell_type": "markdown",
      "source": [
        "Lets also try to make a bidirectional RNN"
      ],
      "metadata": {
        "id": "p9hzFYy_uzVZ"
      }
    },
    {
      "cell_type": "code",
      "source": [
        "model_bilstm = keras.Sequential()\n",
        "\n",
        "model_bilstm.add(vectorize_layer)\n",
        "\n",
        "model_bilstm.add(keras.layers.Embedding(\n",
        "    input_dim = len(vectorize_layer.get_vocabulary()),\n",
        "    output_dim = 64,\n",
        "    mask_zero = True\n",
        "))\n",
        "\n",
        "model_bilstm.add(keras.layers.Bidirectional(keras.layers.LSTM(128)))\n",
        "\n",
        "model_bilstm.add(keras.layers.Dense(1, activation = 'sigmoid'))"
      ],
      "metadata": {
        "id": "9yVHRrX2umOB"
      },
      "execution_count": 67,
      "outputs": []
    },
    {
      "cell_type": "code",
      "source": [
        "# configure training / optimization\n",
        "model_bilstm.compile(loss = keras.losses.BinaryCrossentropy(),\n",
        "                     optimizer='adam',\n",
        "                     metrics=['accuracy'])"
      ],
      "metadata": {
        "id": "FEptte_4um22"
      },
      "execution_count": 68,
      "outputs": []
    },
    {
      "cell_type": "code",
      "source": [
        "# training with 20% validation and 10 epochs.\n",
        "model_bilstm.fit(x = X_train, y = y_train, validation_split = 0.2,\n",
        "                 epochs = 10, batch_size = 32)"
      ],
      "metadata": {
        "colab": {
          "base_uri": "https://localhost:8080/"
        },
        "id": "M_mrXJXYunMh",
        "outputId": "7f80e41d-897e-46b2-b98a-cd2a23d0990b"
      },
      "execution_count": 69,
      "outputs": [
        {
          "output_type": "stream",
          "name": "stdout",
          "text": [
            "Epoch 1/10\n",
            "20/20 [==============================] - 10s 227ms/step - loss: 0.6912 - accuracy: 0.5203 - val_loss: 0.6805 - val_accuracy: 0.6875\n",
            "Epoch 2/10\n",
            "20/20 [==============================] - 2s 84ms/step - loss: 0.5728 - accuracy: 0.8359 - val_loss: 0.7942 - val_accuracy: 0.7250\n",
            "Epoch 3/10\n",
            "20/20 [==============================] - 2s 82ms/step - loss: 0.2838 - accuracy: 0.9250 - val_loss: 0.6850 - val_accuracy: 0.7500\n",
            "Epoch 4/10\n",
            "20/20 [==============================] - 2s 84ms/step - loss: 0.1595 - accuracy: 0.9625 - val_loss: 0.6736 - val_accuracy: 0.8000\n",
            "Epoch 5/10\n",
            "20/20 [==============================] - 2s 84ms/step - loss: 0.1077 - accuracy: 0.9812 - val_loss: 0.7603 - val_accuracy: 0.7688\n",
            "Epoch 6/10\n",
            "20/20 [==============================] - 2s 84ms/step - loss: 0.0823 - accuracy: 0.9812 - val_loss: 0.9663 - val_accuracy: 0.7625\n",
            "Epoch 7/10\n",
            "20/20 [==============================] - 2s 84ms/step - loss: 0.0945 - accuracy: 0.9828 - val_loss: 1.1641 - val_accuracy: 0.7688\n",
            "Epoch 8/10\n",
            "20/20 [==============================] - 2s 86ms/step - loss: 0.0490 - accuracy: 0.9891 - val_loss: 1.1448 - val_accuracy: 0.7750\n",
            "Epoch 9/10\n",
            "20/20 [==============================] - 2s 86ms/step - loss: 0.0550 - accuracy: 0.9875 - val_loss: 0.9625 - val_accuracy: 0.7250\n",
            "Epoch 10/10\n",
            "20/20 [==============================] - 2s 81ms/step - loss: 0.0590 - accuracy: 0.9844 - val_loss: 0.8076 - val_accuracy: 0.7437\n"
          ]
        },
        {
          "output_type": "execute_result",
          "data": {
            "text/plain": [
              "<keras.callbacks.History at 0x7ff20370bd90>"
            ]
          },
          "metadata": {},
          "execution_count": 69
        }
      ]
    },
    {
      "cell_type": "code",
      "source": [
        "# Lets use this RNN to make predictions on some sentences \n",
        "lstm_prediction = (model_lstm.predict(X_test)[:,0] >= 0.5).astype(bool)\n",
        "\n",
        "print(classification_report(y_test, lstm_prediction, labels=[1, 0]))"
      ],
      "metadata": {
        "colab": {
          "base_uri": "https://localhost:8080/"
        },
        "id": "Mv98GGmkuxSR",
        "outputId": "741f3ab5-5e2d-407f-8622-e2a05f8500d0"
      },
      "execution_count": 70,
      "outputs": [
        {
          "output_type": "stream",
          "name": "stdout",
          "text": [
            "              precision    recall  f1-score   support\n",
            "\n",
            "           1       0.74      0.80      0.77       109\n",
            "           0       0.73      0.66      0.69        91\n",
            "\n",
            "    accuracy                           0.73       200\n",
            "   macro avg       0.73      0.73      0.73       200\n",
            "weighted avg       0.73      0.73      0.73       200\n",
            "\n"
          ]
        }
      ]
    }
  ]
}